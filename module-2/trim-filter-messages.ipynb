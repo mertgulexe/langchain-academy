{
 "cells": [
  {
   "cell_type": "markdown",
   "id": "fb0ebaf1",
   "metadata": {},
   "source": [
    "[![Open in Colab](https://colab.research.google.com/assets/colab-badge.svg)](https://colab.research.google.com/github/langchain-ai/langchain-academy/blob/main/module-2/trim-filter-messages.ipynb) [![Open in LangChain Academy](https://cdn.prod.website-files.com/65b8cd72835ceeacd4449a53/66e9eba12c7b7688aa3dbb5e_LCA-badge-green.svg)](https://academy.langchain.com/courses/take/intro-to-langgraph/lessons/58239435-lesson-4-trim-and-filter-messages)"
   ]
  },
  {
   "cell_type": "markdown",
   "id": "c52ea2f9-03ff-4647-b782-46867ebed04e",
   "metadata": {},
   "source": [
    "# Filtering and trimming messages\n",
    "\n",
    "## Review\n",
    "\n",
    "Now, we have a deeper understanding of a few things: \n",
    "\n",
    "* How to customize the graph state schema\n",
    "* How to define custom state reducers\n",
    "* How to use multiple graph state schemas\n",
    "\n",
    "## Goals\n",
    "\n",
    "Now, we can start using these concepts with models in LangGraph!\n",
    " \n",
    "In the next few sessions, we'll build towards a chatbot that has long-term memory.\n",
    "\n",
    "Because our chatbot will use messages, let's first talk a bit more about advanced ways to work with messages in graph state."
   ]
  },
  {
   "cell_type": "code",
   "execution_count": 23,
   "id": "d5197aba-5d46-421b-ae3b-4e3034edcfda",
   "metadata": {},
   "outputs": [],
   "source": [
    "# %%capture --no-stderr\n",
    "# %pip install --quiet -U langchain_core langgraph langchain_openai"
   ]
  },
  {
   "cell_type": "code",
   "execution_count": 24,
   "id": "768dc606-d5f2-468d-96ea-910b264e0f8a",
   "metadata": {},
   "outputs": [],
   "source": [
    "# import os, getpass\n",
    "\n",
    "# def _set_env(var: str):\n",
    "#     if not os.environ.get(var):\n",
    "#         os.environ[var] = getpass.getpass(f\"{var}: \")\n",
    "\n",
    "# _set_env(\"OPENAI_API_KEY\")"
   ]
  },
  {
   "cell_type": "code",
   "execution_count": 25,
   "id": "9b497e45",
   "metadata": {},
   "outputs": [
    {
     "data": {
      "text/plain": [
       "True"
      ]
     },
     "execution_count": 25,
     "metadata": {},
     "output_type": "execute_result"
    }
   ],
   "source": [
    "import os\n",
    "from dotenv import load_dotenv\n",
    "\n",
    "\n",
    "load_dotenv(\"../.env\")"
   ]
  },
  {
   "cell_type": "markdown",
   "id": "8b64d8d3-e4ac-4961-bdc0-688825eb5864",
   "metadata": {},
   "source": [
    "We'll use [LangSmith](https://docs.smith.langchain.com/) for [tracing](https://docs.smith.langchain.com/concepts/tracing).\n",
    "\n",
    "We'll log to a project, `langchain-academy`. "
   ]
  },
  {
   "cell_type": "code",
   "execution_count": 26,
   "id": "dd020c79",
   "metadata": {},
   "outputs": [],
   "source": [
    "os.environ[\"LANGCHAIN_PROJECT\"] = \"langchain-academy\""
   ]
  },
  {
   "cell_type": "markdown",
   "id": "72f3fc90-58b6-4f7f-897e-dddf6ae532c7",
   "metadata": {},
   "source": [
    "## Messages as state\n",
    "\n",
    "First, let's define some messages."
   ]
  },
  {
   "cell_type": "code",
   "execution_count": 27,
   "id": "cf11a463-e27a-4a05-b41d-64882e38edca",
   "metadata": {},
   "outputs": [
    {
     "name": "stdout",
     "output_type": "stream",
     "text": [
      "==================================\u001b[1m Ai Message \u001b[0m==================================\n",
      "Name: Bot\n",
      "\n",
      "So you said you were researching ocean mammals?\n",
      "================================\u001b[1m Human Message \u001b[0m=================================\n",
      "Name: Lance\n",
      "\n",
      "Yes, I know about whales. But what others should I learn about?\n"
     ]
    }
   ],
   "source": [
    "from pprint import pprint\n",
    "from langchain_core.messages import AIMessage, HumanMessage\n",
    "messages = [AIMessage(f\"So you said you were researching ocean mammals?\", name=\"Bot\")]\n",
    "messages.append(HumanMessage(f\"Yes, I know about whales. But what others should I learn about?\", name=\"Lance\"))\n",
    "\n",
    "for m in messages:\n",
    "    m.pretty_print()"
   ]
  },
  {
   "cell_type": "markdown",
   "id": "b814adcb-6bf9-4b75-be11-e59f933fbd0c",
   "metadata": {},
   "source": [
    "Recall we can pass them to a chat model."
   ]
  },
  {
   "cell_type": "code",
   "execution_count": 28,
   "id": "4712e288-e622-48a2-ad3f-a52f65f3ab08",
   "metadata": {},
   "outputs": [
    {
     "data": {
      "text/plain": [
       "AIMessage(content=\"There are many fascinating ocean mammals beyond whales. Here are some interesting ones to consider learning about:\\n\\n1. **Dolphins**: Intelligent and social marine mammals known for their playful behavior and advanced communication skills.\\n2. **Seals and Sea Lions**: Euxine seals (sea lions) are closely related to pinnipeds, while Weddell seals and Crabeater seals are members of the odontoceti clade. They're often found in Antarctica and the southern hemisphere's coastlines.\\n3. **Walruses**: Large, carnivorous mammals with distinctive tusks, walruses live in Arctic and sub-Arctic waters.\\n4. **Manatees**: Also known as sea cows, manatees are gentle giants that inhabit warm, shallow waters in the Caribbean and Gulf of Mexico.\\n5. **Sperm Whales**: The largest animal on Earth, sperm whales have a distinctive black-and-white coloration and are known for their massive heads.\\n6. **Pilot Whales**: Small, melon-headed cetaceans found in tropical and temperate oceans, pilot whales are often used as a proxy species for studying other marine mammals.\\n7. **Orcas (Killer Whales)**: Similar to sperm whales but larger, orcas inhabit all oceans and are known for their social behavior and complex communication patterns.\\n8. **Porpoises**: Small cetaceans related to dolphins, porpoises are found in temperate and tropical waters around the world.\\n9. **Belugas**: Colorful, melon-shaped cetaceans that live in Arctic and sub-Arctic waters, belugas are known for their distinctive songs.\\n10. **Turtles**: Yes, turtles! Sea turtles (e.g., loggerheads, green sea turtles) are protected by law and play an important role in marine ecosystems.\\n\\nThese are just a few examples of the many fascinating ocean mammals out there. Each has unique characteristics, behaviors, and adaptations that make them interesting to learn about.\\n\\nWhich one of these species fascinates you the most?\", additional_kwargs={}, response_metadata={'model': 'llama3.2:1b', 'created_at': '2025-01-05T17:05:06.279695469Z', 'done': True, 'done_reason': 'stop', 'total_duration': 3662608644, 'load_duration': 14981784, 'prompt_eval_count': 54, 'prompt_eval_duration': 20000000, 'eval_count': 419, 'eval_duration': 3624000000, 'message': Message(role='assistant', content='', images=None, tool_calls=None)}, id='run-cd574288-d8c2-47e9-9020-f82ff5985a6d-0', usage_metadata={'input_tokens': 54, 'output_tokens': 419, 'total_tokens': 473})"
      ]
     },
     "execution_count": 28,
     "metadata": {},
     "output_type": "execute_result"
    }
   ],
   "source": [
    "from langchain_openai import ChatOpenAI\n",
    "from langchain_ollama import ChatOllama\n",
    "\n",
    "\n",
    "# llm = ChatOpenAI(model=\"gpt-4o\")\n",
    "llm = ChatOllama(model=\"llama3.2:1b\")\n",
    "llm.invoke(messages)"
   ]
  },
  {
   "cell_type": "markdown",
   "id": "fbd1dab8-0af8-4621-8264-ce65065f76ec",
   "metadata": {},
   "source": [
    "We can run our chat model in a simple graph with `MessagesState`."
   ]
  },
  {
   "cell_type": "code",
   "execution_count": 29,
   "id": "bbd8c39c-633b-4176-9cc6-8318e42bb5dd",
   "metadata": {},
   "outputs": [
    {
     "data": {
      "image/png": "[encoded data removed]",
      "text/plain": [
       "<IPython.core.display.Image object>"
      ]
     },
     "metadata": {},
     "output_type": "display_data"
    }
   ],
   "source": [
    "from IPython.display import Image, display\n",
    "from langgraph.graph import MessagesState\n",
    "from langgraph.graph import StateGraph, START, END\n",
    "\n",
    "\n",
    "# Node\n",
    "def chat_model_node(state: MessagesState):\n",
    "    return {\"messages\": llm.invoke(state[\"messages\"])}\n",
    "\n",
    "# Build graph\n",
    "builder = StateGraph(MessagesState)\n",
    "builder.add_node(\"chat_model\", chat_model_node)\n",
    "builder.add_edge(START, \"chat_model\")\n",
    "builder.add_edge(\"chat_model\", END)\n",
    "graph = builder.compile()\n",
    "\n",
    "# View\n",
    "display(Image(graph.get_graph().draw_mermaid_png()))"
   ]
  },
  {
   "cell_type": "code",
   "execution_count": 30,
   "id": "3a5a3e4a-ccfd-4d14-81f1-f0de6e11a1e4",
   "metadata": {},
   "outputs": [
    {
     "name": "stdout",
     "output_type": "stream",
     "text": [
      "==================================\u001b[1m Ai Message \u001b[0m==================================\n",
      "Name: Bot\n",
      "\n",
      "So you said you were researching ocean mammals?\n",
      "================================\u001b[1m Human Message \u001b[0m=================================\n",
      "Name: Lance\n",
      "\n",
      "Yes, I know about whales. But what others should I learn about?\n",
      "==================================\u001b[1m Ai Message \u001b[0m==================================\n",
      "\n",
      "There are so many fascinating ocean creatures beyond whales. Here are some lesser-known but equally interesting ones:\n",
      "\n",
      "1. **Dolphins**: Like whales, dolphins are highly intelligent and social marine mammals. They're known for their playful antics and sophisticated communication skills.\n",
      "2. **Seals and Sea Lions**: These pinnipeds (fin-footed mammals) are found in coastal waters around the world. They're agile swimmers and can be quite mischievous when they're not hunting.\n",
      "3. **Squid and Octopuses**: These cephalopods are some of the most intelligent invertebrates on the planet. Their massive eyes, suckers, and camouflage abilities make them masterful hunters.\n",
      "4. **Jellyfish**: Despite their gelatinous appearance, jellyfish are actually soft-bodied animals that have been around for over 650 million years. They come in all shapes and sizes, from tiny ones to giant species like the lion's mane jellyfish.\n",
      "5. **Nematode Worms (Roundworms)**: These microscopic worms are the smallest animals on Earth, but they're incredibly diverse. Some species can change color, move through water, or even survive out of water for short periods.\n",
      "6. **Corals**: While often overlooked, corals are the base of many marine ecosystems, providing food and habitat for countless creatures. They come in a range of colors and shapes, from tiny stony corals to towering brain coral.\n",
      "7. **Octopus-like Fish**: These fish have evolved to mimic octopuses' shape-changing abilities, using their skin to camouflage themselves or manipulate objects.\n",
      "8. **Sea Turtles**: These long-lived reptiles migrate across vast distances, facing numerous threats like habitat loss and pollution. Their shells are made of bony plates called scutes.\n",
      "9. **Fangtooth Fish**: With their oversized teeth and sharp jaws, fangtooth fish are well-known for their fearsome appearance. Despite this, they're relatively small (most species reach up to 20 inches in length).\n",
      "10. **Gulper Eels**: These eel-like creatures have enormous mouths that can open wide enough to swallow prey whole, even if it's larger than themselves.\n",
      "\n",
      "These animals all contribute to the incredible diversity of life in our oceans. By learning more about them, we can gain a deeper appreciation for these fascinating creatures and the importance of protecting their habitats.\n",
      "\n",
      "Which one of these creatures would you like to learn more about?\n"
     ]
    }
   ],
   "source": [
    "output = graph.invoke({'messages': messages})\n",
    "for m in output['messages']:\n",
    "    m.pretty_print()"
   ]
  },
  {
   "cell_type": "markdown",
   "id": "34c33e63-1ef4-412d-bb10-6a1b9e5b35a7",
   "metadata": {},
   "source": [
    "## Reducer\n",
    "\n",
    "A practical challenge when working with messages is managing long-running conversations. \n",
    "\n",
    "Long-running conversations result in high token usage and latency if we are not careful, because we pass a growing list of messages to the model.\n",
    "\n",
    "We have a few ways to address this.\n",
    "\n",
    "First, recall the trick we saw using `RemoveMessage` and the `add_messages` reducer."
   ]
  },
  {
   "cell_type": "code",
   "execution_count": 31,
   "id": "222c6bc5-bb0e-4a43-80f5-c8ec38d99f3a",
   "metadata": {},
   "outputs": [
    {
     "data": {
      "image/png": "[encoded data removed]",
      "text/plain": [
       "<IPython.core.display.Image object>"
      ]
     },
     "metadata": {},
     "output_type": "display_data"
    }
   ],
   "source": [
    "from langchain_core.messages import RemoveMessage\n",
    "\n",
    "# Nodes\n",
    "def filter_messages(state: MessagesState):\n",
    "    # Delete all but the 2 most recent messages\n",
    "    delete_messages = [RemoveMessage(id=m.id) for m in state[\"messages\"][:-2]]\n",
    "    return {\n",
    "        \"messages\": delete_messages\n",
    "    }\n",
    "\n",
    "def chat_model_node(state: MessagesState):    \n",
    "    return {\"messages\": [llm.invoke(state[\"messages\"])]}\n",
    "\n",
    "# Build graph\n",
    "builder = StateGraph(MessagesState)\n",
    "builder.add_node(\"filtering_node\", filter_messages)\n",
    "builder.add_node(\"chat_model\", chat_model_node)\n",
    "builder.add_edge(START, \"filtering_node\")\n",
    "builder.add_edge(\"filtering_node\", \"chat_model\")\n",
    "builder.add_edge(\"chat_model\", END)\n",
    "graph = builder.compile()\n",
    "\n",
    "# View\n",
    "display(Image(graph.get_graph().draw_mermaid_png()))"
   ]
  },
  {
   "cell_type": "code",
   "execution_count": 32,
   "id": "95a7c2cc-54ce-43e7-9a90-abf37827d709",
   "metadata": {},
   "outputs": [
    {
     "name": "stdout",
     "output_type": "stream",
     "text": [
      "==================================\u001b[1m Ai Message \u001b[0m==================================\n",
      "Name: Bot\n",
      "\n",
      "So you said you were researching ocean mammals?\n",
      "================================\u001b[1m Human Message \u001b[0m=================================\n",
      "Name: Lance\n",
      "\n",
      "Yes, I know about whales. But what others should I learn about?\n",
      "==================================\u001b[1m Ai Message \u001b[0m==================================\n",
      "\n",
      "There are so many fascinating ocean creatures beyond whales. Here are some interesting ones to get you started:\n",
      "\n",
      "1. **Dolphins**: Like whales, dolphins are highly intelligent and social marine mammals. They're known for their playful behavior and acrobatic feats.\n",
      "2. **Seals and Sea Lions**: These pinnipeds (fin-footed mammals) are excellent swimmers and can be found in both warm and cold waters around the world.\n",
      "3. **Squids and Octopuses**: These cephalopods are masters of disguise and have incredible intelligence. They have a unique body structure that allows them to change color and shape.\n",
      "4. **Fish**: With over 30,000 known species, fish are incredibly diverse. Some popular ones include clownfish, angelfish, and sharks (yes, sharks are fish!).\n",
      "5. **Corals**: These colorful, reef-building organisms are a crucial part of the ocean's ecosystem. Coral reefs support an incredible array of marine life.\n",
      "6. **Jellyfish**: Jellyfish have been around for billions of years and come in a range of shapes and sizes. Some species are bioluminescent, making them glow in the dark!\n",
      "7. **Penguins**: While often thought of as flightless birds, penguins are actually highly adapted to life underwater. They use their wings like flippers and dive to great depths.\n",
      "8. **Whalesharks**: These gentle giants are a type of baleen whale that can grow up to 20 feet (6 meters) long. They're known for their massive migration patterns.\n",
      "9. **Sea Turtles**: With three species, sea turtles migrate across the globe and have been on our planet for over 150 million years.\n",
      "10. **Krill**: These small crustaceans are an essential food source for many marine animals, including whales, seals, and penguins.\n",
      "\n",
      "These are just a few examples of the many fascinating ocean creatures out there. Learning about different species can help you appreciate the importance of conservation efforts and how we interact with our oceans.\n",
      "\n",
      "Which of these creatures fascinates you the most?\n"
     ]
    }
   ],
   "source": [
    "# Message list with a preamble\n",
    "messages = [AIMessage(\"Hi.\", name=\"Bot\", id=\"1\")]\n",
    "messages.append(HumanMessage(\"Hi.\", name=\"Lance\", id=\"2\"))\n",
    "messages.append(AIMessage(\"So you said you were researching ocean mammals?\", name=\"Bot\", id=\"3\"))\n",
    "messages.append(HumanMessage(\"Yes, I know about whales. But what others should I learn about?\", name=\"Lance\", id=\"4\"))\n",
    "\n",
    "# Invoke\n",
    "output = graph.invoke({'messages': messages})\n",
    "for m in output['messages']:\n",
    "    m.pretty_print()"
   ]
  },
  {
   "cell_type": "markdown",
   "id": "f506457d-014b-4fee-a684-e5edfb4b8f0d",
   "metadata": {},
   "source": [
    "## Filtering messages\n",
    "\n",
    "If you don't need or want to modify the graph state, you can just filter the messages you pass to the chat model.\n",
    "\n",
    "For example, just pass in a filtered list: `llm.invoke(messages[-1:])` to the model."
   ]
  },
  {
   "cell_type": "code",
   "execution_count": 33,
   "id": "22d0b904-7cd6-486b-8948-105bee3d4683",
   "metadata": {},
   "outputs": [
    {
     "data": {
      "image/png": "[encoded data removed]",
      "text/plain": [
       "<IPython.core.display.Image object>"
      ]
     },
     "metadata": {},
     "output_type": "display_data"
    }
   ],
   "source": [
    "# Node\n",
    "def chat_model_node(state: MessagesState):\n",
    "    return {\"messages\": [llm.invoke(state[\"messages\"][-1:])]}\n",
    "\n",
    "# Build graph\n",
    "builder = StateGraph(MessagesState)\n",
    "builder.add_node(\"chat_model\", chat_model_node)\n",
    "builder.add_edge(START, \"chat_model\")\n",
    "builder.add_edge(\"chat_model\", END)\n",
    "graph = builder.compile()\n",
    "\n",
    "# View\n",
    "display(Image(graph.get_graph().draw_mermaid_png()))"
   ]
  },
  {
   "cell_type": "markdown",
   "id": "6f58c6fc-532f-418d-b70a-cfcb3307daf5",
   "metadata": {},
   "source": [
    "Let's take our existing list of messages, append the above LLM response, and append a follow-up question."
   ]
  },
  {
   "cell_type": "code",
   "execution_count": 34,
   "id": "16956015-1dbe-4108-89b5-4209b68b51ca",
   "metadata": {},
   "outputs": [],
   "source": [
    "messages.append(output['messages'][-1])\n",
    "messages.append(HumanMessage(f\"Tell me more about polar bears!\", name=\"Mert\"))"
   ]
  },
  {
   "cell_type": "code",
   "execution_count": 35,
   "id": "85563415-c085-46a8-a4ac-155df798c54e",
   "metadata": {},
   "outputs": [
    {
     "name": "stdout",
     "output_type": "stream",
     "text": [
      "==================================\u001b[1m Ai Message \u001b[0m==================================\n",
      "Name: Bot\n",
      "\n",
      "Hi.\n",
      "================================\u001b[1m Human Message \u001b[0m=================================\n",
      "Name: Lance\n",
      "\n",
      "Hi.\n",
      "==================================\u001b[1m Ai Message \u001b[0m==================================\n",
      "Name: Bot\n",
      "\n",
      "So you said you were researching ocean mammals?\n",
      "================================\u001b[1m Human Message \u001b[0m=================================\n",
      "Name: Lance\n",
      "\n",
      "Yes, I know about whales. But what others should I learn about?\n",
      "==================================\u001b[1m Ai Message \u001b[0m==================================\n",
      "\n",
      "There are so many fascinating ocean creatures beyond whales. Here are some interesting ones to get you started:\n",
      "\n",
      "1. **Dolphins**: Like whales, dolphins are highly intelligent and social marine mammals. They're known for their playful behavior and acrobatic feats.\n",
      "2. **Seals and Sea Lions**: These pinnipeds (fin-footed mammals) are excellent swimmers and can be found in both warm and cold waters around the world.\n",
      "3. **Squids and Octopuses**: These cephalopods are masters of disguise and have incredible intelligence. They have a unique body structure that allows them to change color and shape.\n",
      "4. **Fish**: With over 30,000 known species, fish are incredibly diverse. Some popular ones include clownfish, angelfish, and sharks (yes, sharks are fish!).\n",
      "5. **Corals**: These colorful, reef-building organisms are a crucial part of the ocean's ecosystem. Coral reefs support an incredible array of marine life.\n",
      "6. **Jellyfish**: Jellyfish have been around for billions of years and come in a range of shapes and sizes. Some species are bioluminescent, making them glow in the dark!\n",
      "7. **Penguins**: While often thought of as flightless birds, penguins are actually highly adapted to life underwater. They use their wings like flippers and dive to great depths.\n",
      "8. **Whalesharks**: These gentle giants are a type of baleen whale that can grow up to 20 feet (6 meters) long. They're known for their massive migration patterns.\n",
      "9. **Sea Turtles**: With three species, sea turtles migrate across the globe and have been on our planet for over 150 million years.\n",
      "10. **Krill**: These small crustaceans are an essential food source for many marine animals, including whales, seals, and penguins.\n",
      "\n",
      "These are just a few examples of the many fascinating ocean creatures out there. Learning about different species can help you appreciate the importance of conservation efforts and how we interact with our oceans.\n",
      "\n",
      "Which of these creatures fascinates you the most?\n",
      "================================\u001b[1m Human Message \u001b[0m=================================\n",
      "Name: Mert\n",
      "\n",
      "Tell me more about polar bears!\n"
     ]
    }
   ],
   "source": [
    "for m in messages:\n",
    "    m.pretty_print()"
   ]
  },
  {
   "cell_type": "code",
   "execution_count": 36,
   "id": "23349705-a059-47b5-9760-d8f64e687393",
   "metadata": {},
   "outputs": [
    {
     "name": "stdout",
     "output_type": "stream",
     "text": [
      "==================================\u001b[1m Ai Message \u001b[0m==================================\n",
      "Name: Bot\n",
      "\n",
      "Hi.\n",
      "================================\u001b[1m Human Message \u001b[0m=================================\n",
      "Name: Lance\n",
      "\n",
      "Hi.\n",
      "==================================\u001b[1m Ai Message \u001b[0m==================================\n",
      "Name: Bot\n",
      "\n",
      "So you said you were researching ocean mammals?\n",
      "================================\u001b[1m Human Message \u001b[0m=================================\n",
      "Name: Lance\n",
      "\n",
      "Yes, I know about whales. But what others should I learn about?\n",
      "==================================\u001b[1m Ai Message \u001b[0m==================================\n",
      "\n",
      "There are so many fascinating ocean creatures beyond whales. Here are some interesting ones to get you started:\n",
      "\n",
      "1. **Dolphins**: Like whales, dolphins are highly intelligent and social marine mammals. They're known for their playful behavior and acrobatic feats.\n",
      "2. **Seals and Sea Lions**: These pinnipeds (fin-footed mammals) are excellent swimmers and can be found in both warm and cold waters around the world.\n",
      "3. **Squids and Octopuses**: These cephalopods are masters of disguise and have incredible intelligence. They have a unique body structure that allows them to change color and shape.\n",
      "4. **Fish**: With over 30,000 known species, fish are incredibly diverse. Some popular ones include clownfish, angelfish, and sharks (yes, sharks are fish!).\n",
      "5. **Corals**: These colorful, reef-building organisms are a crucial part of the ocean's ecosystem. Coral reefs support an incredible array of marine life.\n",
      "6. **Jellyfish**: Jellyfish have been around for billions of years and come in a range of shapes and sizes. Some species are bioluminescent, making them glow in the dark!\n",
      "7. **Penguins**: While often thought of as flightless birds, penguins are actually highly adapted to life underwater. They use their wings like flippers and dive to great depths.\n",
      "8. **Whalesharks**: These gentle giants are a type of baleen whale that can grow up to 20 feet (6 meters) long. They're known for their massive migration patterns.\n",
      "9. **Sea Turtles**: With three species, sea turtles migrate across the globe and have been on our planet for over 150 million years.\n",
      "10. **Krill**: These small crustaceans are an essential food source for many marine animals, including whales, seals, and penguins.\n",
      "\n",
      "These are just a few examples of the many fascinating ocean creatures out there. Learning about different species can help you appreciate the importance of conservation efforts and how we interact with our oceans.\n",
      "\n",
      "Which of these creatures fascinates you the most?\n",
      "================================\u001b[1m Human Message \u001b[0m=================================\n",
      "Name: Mert\n",
      "\n",
      "Tell me more about polar bears!\n",
      "==================================\u001b[1m Ai Message \u001b[0m==================================\n",
      "\n",
      "Polar bears (Ursus maritimus) are incredible animals that inhabit the Arctic region. Here are some fascinating facts about them:\n",
      "\n",
      "**Physical Characteristics**\n",
      "\n",
      "* Polar bears have a thick layer of fat and muscle to keep warm in freezing temperatures.\n",
      "* Their fur is white, but it's actually transparent and hollow, allowing heat to escape.\n",
      "* They have black skin underneath their fur, which helps to absorb heat from the sun.\n",
      "* Adult polar bears can weigh up to 1,700 pounds (770 kg) and reach lengths of up to 9 feet (2.7 meters).\n",
      "\n",
      "**Habitat and Distribution**\n",
      "\n",
      "* Polar bears are found in the Arctic region, including Alaska, Canada, Greenland, Norway, and Russia.\n",
      "* They inhabit areas with sea ice, which provides them with a habitat for hunting and breeding.\n",
      "\n",
      "**Diet and Hunting**\n",
      "\n",
      "* Polar bears are carnivores and primarily feed on seals (ringed seals and bearded seals), which provide them with the necessary nutrients to survive.\n",
      "* They use their keen sense of smell and powerful sense of hearing to locate prey.\n",
      "* In the summer, when sea ice melts, polar bears must rely on other sources of food, such as fish and berries.\n",
      "\n",
      "**Behavior and Reproduction**\n",
      "\n",
      "* Polar bears are excellent swimmers and have been known to swim for hours or even days at a time.\n",
      "* They are skilled hunters and can reach speeds of up to 25 miles per hour (40 km/h) when chasing prey.\n",
      "* Female polar bears typically give birth to one cub per year, which is born in the spring.\n",
      "* The cubs stay with their mother for about 18-22 months before venturing out on their own.\n",
      "\n",
      "**Conservation Status**\n",
      "\n",
      "* Polar bears are listed as \"Vulnerable\" on the IUCN Red List due to climate change, which is melting sea ice and reducing their food supply.\n",
      "* Habitat loss and hunting have also contributed to the decline of polar bear populations.\n",
      "\n",
      "**Interesting Facts**\n",
      "\n",
      "* Polar bears can slow down their metabolism to conserve energy in cold temperatures, a process called \"thermogenesis.\"\n",
      "* They have black skin, but it's not actually black; it's transparent due to a lack of pigmentation.\n",
      "* Polar bears are excellent navigators and have been known to travel long distances without leaving a trail.\n",
      "\n",
      "These are just a few of the many fascinating facts about polar bears. These incredible animals continue to fascinate scientists and the general public alike, and their importance in the Arctic ecosystem cannot be overstated.\n"
     ]
    }
   ],
   "source": [
    "# Invoke, using message filtering\n",
    "output = graph.invoke({'messages': messages})\n",
    "for m in output['messages']:\n",
    "    m.pretty_print()"
   ]
  },
  {
   "cell_type": "markdown",
   "id": "42e1d8d2-e297-4d78-b54c-d12b3c866745",
   "metadata": {},
   "source": [
    "The state has all of the mesages.\n",
    "\n",
    "But, let's look at the LangSmith trace to see that the model invocation only uses the last message:\n",
    "\n",
    "https://smith.langchain.com/public/75aca3ce-ef19-4b92-94be-0178c7a660d9/r"
   ]
  },
  {
   "cell_type": "markdown",
   "id": "fc40d930-3c1f-47fe-8d2a-ce174873353c",
   "metadata": {},
   "source": [
    "## Trim messages\n",
    "\n",
    "Another approach is to [trim messages](https://python.langchain.com/v0.2/docs/how_to/trim_messages/#getting-the-last-max_tokens-tokens), based upon a set number of tokens. \n",
    "\n",
    "This restricts the message history to a specified number of tokens.\n",
    "\n",
    "While filtering only returns a post-hoc subset of the messages between agents, trimming restricts the number of tokens that a chat model can use to respond.\n",
    "\n",
    "See the `trim_messages` below."
   ]
  },
  {
   "cell_type": "code",
   "execution_count": 37,
   "id": "2ff99b81-cf03-4cc2-b44f-44829a73e1fd",
   "metadata": {},
   "outputs": [
    {
     "data": {
      "image/png": "[encoded data removed]",
      "text/plain": [
       "<IPython.core.display.Image object>"
      ]
     },
     "metadata": {},
     "output_type": "display_data"
    }
   ],
   "source": [
    "from langchain_core.messages import trim_messages\n",
    "\n",
    "# Node\n",
    "def chat_model_node(state: MessagesState):\n",
    "    messages = trim_messages(\n",
    "            state[\"messages\"],\n",
    "            max_tokens=100,\n",
    "            strategy=\"last\",\n",
    "            # token_counter=ChatOpenAI(model=\"gpt-4o\"),\n",
    "            token_counter=ChatOllama(model=\"llama3.2:1b\"),\n",
    "            allow_partial=False,\n",
    "        )\n",
    "    return {\"messages\": [llm.invoke(messages)]}\n",
    "\n",
    "# Build graph\n",
    "builder = StateGraph(MessagesState)\n",
    "builder.add_node(\"chat_model\", chat_model_node)\n",
    "builder.add_edge(START, \"chat_model\")\n",
    "builder.add_edge(\"chat_model\", END)\n",
    "graph = builder.compile()\n",
    "\n",
    "# View\n",
    "display(Image(graph.get_graph().draw_mermaid_png()))"
   ]
  },
  {
   "cell_type": "code",
   "execution_count": 38,
   "id": "24df63ac-da29-4874-b3df-7e390e97cc8a",
   "metadata": {},
   "outputs": [],
   "source": [
    "messages.append(output['messages'][-1])\n",
    "messages.append(\n",
    "    HumanMessage(\n",
    "        f\"By the way, where was the capital city of the United Kingdom again?\",\n",
    "        name=\"Mert\"\n",
    "    )\n",
    ")"
   ]
  },
  {
   "cell_type": "code",
   "execution_count": 39,
   "id": "0e80a0e7",
   "metadata": {},
   "outputs": [
    {
     "data": {
      "text/plain": [
       "[AIMessage(content='Hi.', additional_kwargs={}, response_metadata={}, name='Bot', id='1'),\n",
       " HumanMessage(content='Hi.', additional_kwargs={}, response_metadata={}, name='Lance', id='2'),\n",
       " AIMessage(content='So you said you were researching ocean mammals?', additional_kwargs={}, response_metadata={}, name='Bot', id='3'),\n",
       " HumanMessage(content='Yes, I know about whales. But what others should I learn about?', additional_kwargs={}, response_metadata={}, name='Lance', id='4'),\n",
       " AIMessage(content=\"There are so many fascinating ocean creatures beyond whales. Here are some interesting ones to get you started:\\n\\n1. **Dolphins**: Like whales, dolphins are highly intelligent and social marine mammals. They're known for their playful behavior and acrobatic feats.\\n2. **Seals and Sea Lions**: These pinnipeds (fin-footed mammals) are excellent swimmers and can be found in both warm and cold waters around the world.\\n3. **Squids and Octopuses**: These cephalopods are masters of disguise and have incredible intelligence. They have a unique body structure that allows them to change color and shape.\\n4. **Fish**: With over 30,000 known species, fish are incredibly diverse. Some popular ones include clownfish, angelfish, and sharks (yes, sharks are fish!).\\n5. **Corals**: These colorful, reef-building organisms are a crucial part of the ocean's ecosystem. Coral reefs support an incredible array of marine life.\\n6. **Jellyfish**: Jellyfish have been around for billions of years and come in a range of shapes and sizes. Some species are bioluminescent, making them glow in the dark!\\n7. **Penguins**: While often thought of as flightless birds, penguins are actually highly adapted to life underwater. They use their wings like flippers and dive to great depths.\\n8. **Whalesharks**: These gentle giants are a type of baleen whale that can grow up to 20 feet (6 meters) long. They're known for their massive migration patterns.\\n9. **Sea Turtles**: With three species, sea turtles migrate across the globe and have been on our planet for over 150 million years.\\n10. **Krill**: These small crustaceans are an essential food source for many marine animals, including whales, seals, and penguins.\\n\\nThese are just a few examples of the many fascinating ocean creatures out there. Learning about different species can help you appreciate the importance of conservation efforts and how we interact with our oceans.\\n\\nWhich of these creatures fascinates you the most?\", additional_kwargs={}, response_metadata={'model': 'llama3.2:1b', 'created_at': '2025-01-05T17:05:14.507782234Z', 'done': True, 'done_reason': 'stop', 'total_duration': 3639265169, 'load_duration': 14384181, 'prompt_eval_count': 54, 'prompt_eval_duration': 1000000, 'eval_count': 431, 'eval_duration': 3622000000, 'message': Message(role='assistant', content='', images=None, tool_calls=None)}, id='run-edbe79ac-b4b9-4c49-9966-23f4797f9392-0', usage_metadata={'input_tokens': 54, 'output_tokens': 431, 'total_tokens': 485}),\n",
       " HumanMessage(content='Tell me more about polar bears!', additional_kwargs={}, response_metadata={}, name='Mert', id='9b7badb4-abd9-4a9d-a662-2b251856d411'),\n",
       " AIMessage(content='Polar bears (Ursus maritimus) are incredible animals that inhabit the Arctic region. Here are some fascinating facts about them:\\n\\n**Physical Characteristics**\\n\\n* Polar bears have a thick layer of fat and muscle to keep warm in freezing temperatures.\\n* Their fur is white, but it\\'s actually transparent and hollow, allowing heat to escape.\\n* They have black skin underneath their fur, which helps to absorb heat from the sun.\\n* Adult polar bears can weigh up to 1,700 pounds (770 kg) and reach lengths of up to 9 feet (2.7 meters).\\n\\n**Habitat and Distribution**\\n\\n* Polar bears are found in the Arctic region, including Alaska, Canada, Greenland, Norway, and Russia.\\n* They inhabit areas with sea ice, which provides them with a habitat for hunting and breeding.\\n\\n**Diet and Hunting**\\n\\n* Polar bears are carnivores and primarily feed on seals (ringed seals and bearded seals), which provide them with the necessary nutrients to survive.\\n* They use their keen sense of smell and powerful sense of hearing to locate prey.\\n* In the summer, when sea ice melts, polar bears must rely on other sources of food, such as fish and berries.\\n\\n**Behavior and Reproduction**\\n\\n* Polar bears are excellent swimmers and have been known to swim for hours or even days at a time.\\n* They are skilled hunters and can reach speeds of up to 25 miles per hour (40 km/h) when chasing prey.\\n* Female polar bears typically give birth to one cub per year, which is born in the spring.\\n* The cubs stay with their mother for about 18-22 months before venturing out on their own.\\n\\n**Conservation Status**\\n\\n* Polar bears are listed as \"Vulnerable\" on the IUCN Red List due to climate change, which is melting sea ice and reducing their food supply.\\n* Habitat loss and hunting have also contributed to the decline of polar bear populations.\\n\\n**Interesting Facts**\\n\\n* Polar bears can slow down their metabolism to conserve energy in cold temperatures, a process called \"thermogenesis.\"\\n* They have black skin, but it\\'s not actually black; it\\'s transparent due to a lack of pigmentation.\\n* Polar bears are excellent navigators and have been known to travel long distances without leaving a trail.\\n\\nThese are just a few of the many fascinating facts about polar bears. These incredible animals continue to fascinate scientists and the general public alike, and their importance in the Arctic ecosystem cannot be overstated.', additional_kwargs={}, response_metadata={'model': 'llama3.2:1b', 'created_at': '2025-01-05T17:05:19.203278321Z', 'done': True, 'done_reason': 'stop', 'total_duration': 4331393961, 'load_duration': 16202536, 'prompt_eval_count': 32, 'prompt_eval_duration': 4000000, 'eval_count': 510, 'eval_duration': 4310000000, 'message': Message(role='assistant', content='', images=None, tool_calls=None)}, id='run-43e5be5d-f4a7-440e-9021-00b5604d7066-0', usage_metadata={'input_tokens': 32, 'output_tokens': 510, 'total_tokens': 542}),\n",
       " HumanMessage(content='By the way, where was the capital city of the United Kingdom again?', additional_kwargs={}, response_metadata={}, name='Mert')]"
      ]
     },
     "execution_count": 39,
     "metadata": {},
     "output_type": "execute_result"
    }
   ],
   "source": [
    "messages"
   ]
  },
  {
   "cell_type": "code",
   "execution_count": 40,
   "id": "6d9d8971-c75c-43ca-a209-eb1d07b2ead0",
   "metadata": {},
   "outputs": [
    {
     "data": {
      "text/plain": [
       "[HumanMessage(content='By the way, where was the capital city of the United Kingdom again?', additional_kwargs={}, response_metadata={}, name='Mert')]"
      ]
     },
     "execution_count": 40,
     "metadata": {},
     "output_type": "execute_result"
    }
   ],
   "source": [
    "# Example of trimming messages\n",
    "trim_messages(\n",
    "            messages,\n",
    "            max_tokens=100,\n",
    "            strategy=\"last\",\n",
    "            # token_counter=ChatOpenAI(model=\"gpt-4o\"),\n",
    "            token_counter=ChatOllama(model=\"llama3.2:1b\"),\n",
    "            allow_partial=False\n",
    "        )"
   ]
  },
  {
   "cell_type": "code",
   "execution_count": 41,
   "id": "ed70a269-a869-4fa0-a1df-29736a432c51",
   "metadata": {},
   "outputs": [],
   "source": [
    "# Invoke, using message trimming in the chat_model_node \n",
    "messages_out_trim = graph.invoke({'messages': messages})"
   ]
  },
  {
   "cell_type": "code",
   "execution_count": 42,
   "id": "fd613515",
   "metadata": {},
   "outputs": [
    {
     "data": {
      "text/plain": [
       "{'messages': [AIMessage(content='Hi.', additional_kwargs={}, response_metadata={}, name='Bot', id='1'),\n",
       "  HumanMessage(content='Hi.', additional_kwargs={}, response_metadata={}, name='Lance', id='2'),\n",
       "  AIMessage(content='So you said you were researching ocean mammals?', additional_kwargs={}, response_metadata={}, name='Bot', id='3'),\n",
       "  HumanMessage(content='Yes, I know about whales. But what others should I learn about?', additional_kwargs={}, response_metadata={}, name='Lance', id='4'),\n",
       "  AIMessage(content=\"There are so many fascinating ocean creatures beyond whales. Here are some interesting ones to get you started:\\n\\n1. **Dolphins**: Like whales, dolphins are highly intelligent and social marine mammals. They're known for their playful behavior and acrobatic feats.\\n2. **Seals and Sea Lions**: These pinnipeds (fin-footed mammals) are excellent swimmers and can be found in both warm and cold waters around the world.\\n3. **Squids and Octopuses**: These cephalopods are masters of disguise and have incredible intelligence. They have a unique body structure that allows them to change color and shape.\\n4. **Fish**: With over 30,000 known species, fish are incredibly diverse. Some popular ones include clownfish, angelfish, and sharks (yes, sharks are fish!).\\n5. **Corals**: These colorful, reef-building organisms are a crucial part of the ocean's ecosystem. Coral reefs support an incredible array of marine life.\\n6. **Jellyfish**: Jellyfish have been around for billions of years and come in a range of shapes and sizes. Some species are bioluminescent, making them glow in the dark!\\n7. **Penguins**: While often thought of as flightless birds, penguins are actually highly adapted to life underwater. They use their wings like flippers and dive to great depths.\\n8. **Whalesharks**: These gentle giants are a type of baleen whale that can grow up to 20 feet (6 meters) long. They're known for their massive migration patterns.\\n9. **Sea Turtles**: With three species, sea turtles migrate across the globe and have been on our planet for over 150 million years.\\n10. **Krill**: These small crustaceans are an essential food source for many marine animals, including whales, seals, and penguins.\\n\\nThese are just a few examples of the many fascinating ocean creatures out there. Learning about different species can help you appreciate the importance of conservation efforts and how we interact with our oceans.\\n\\nWhich of these creatures fascinates you the most?\", additional_kwargs={}, response_metadata={'model': 'llama3.2:1b', 'created_at': '2025-01-05T17:05:14.507782234Z', 'done': True, 'done_reason': 'stop', 'total_duration': 3639265169, 'load_duration': 14384181, 'prompt_eval_count': 54, 'prompt_eval_duration': 1000000, 'eval_count': 431, 'eval_duration': 3622000000, 'message': Message(role='assistant', content='', images=None, tool_calls=None)}, id='run-edbe79ac-b4b9-4c49-9966-23f4797f9392-0', usage_metadata={'input_tokens': 54, 'output_tokens': 431, 'total_tokens': 485}),\n",
       "  HumanMessage(content='Tell me more about polar bears!', additional_kwargs={}, response_metadata={}, name='Mert', id='9b7badb4-abd9-4a9d-a662-2b251856d411'),\n",
       "  AIMessage(content='Polar bears (Ursus maritimus) are incredible animals that inhabit the Arctic region. Here are some fascinating facts about them:\\n\\n**Physical Characteristics**\\n\\n* Polar bears have a thick layer of fat and muscle to keep warm in freezing temperatures.\\n* Their fur is white, but it\\'s actually transparent and hollow, allowing heat to escape.\\n* They have black skin underneath their fur, which helps to absorb heat from the sun.\\n* Adult polar bears can weigh up to 1,700 pounds (770 kg) and reach lengths of up to 9 feet (2.7 meters).\\n\\n**Habitat and Distribution**\\n\\n* Polar bears are found in the Arctic region, including Alaska, Canada, Greenland, Norway, and Russia.\\n* They inhabit areas with sea ice, which provides them with a habitat for hunting and breeding.\\n\\n**Diet and Hunting**\\n\\n* Polar bears are carnivores and primarily feed on seals (ringed seals and bearded seals), which provide them with the necessary nutrients to survive.\\n* They use their keen sense of smell and powerful sense of hearing to locate prey.\\n* In the summer, when sea ice melts, polar bears must rely on other sources of food, such as fish and berries.\\n\\n**Behavior and Reproduction**\\n\\n* Polar bears are excellent swimmers and have been known to swim for hours or even days at a time.\\n* They are skilled hunters and can reach speeds of up to 25 miles per hour (40 km/h) when chasing prey.\\n* Female polar bears typically give birth to one cub per year, which is born in the spring.\\n* The cubs stay with their mother for about 18-22 months before venturing out on their own.\\n\\n**Conservation Status**\\n\\n* Polar bears are listed as \"Vulnerable\" on the IUCN Red List due to climate change, which is melting sea ice and reducing their food supply.\\n* Habitat loss and hunting have also contributed to the decline of polar bear populations.\\n\\n**Interesting Facts**\\n\\n* Polar bears can slow down their metabolism to conserve energy in cold temperatures, a process called \"thermogenesis.\"\\n* They have black skin, but it\\'s not actually black; it\\'s transparent due to a lack of pigmentation.\\n* Polar bears are excellent navigators and have been known to travel long distances without leaving a trail.\\n\\nThese are just a few of the many fascinating facts about polar bears. These incredible animals continue to fascinate scientists and the general public alike, and their importance in the Arctic ecosystem cannot be overstated.', additional_kwargs={}, response_metadata={'model': 'llama3.2:1b', 'created_at': '2025-01-05T17:05:19.203278321Z', 'done': True, 'done_reason': 'stop', 'total_duration': 4331393961, 'load_duration': 16202536, 'prompt_eval_count': 32, 'prompt_eval_duration': 4000000, 'eval_count': 510, 'eval_duration': 4310000000, 'message': Message(role='assistant', content='', images=None, tool_calls=None)}, id='run-43e5be5d-f4a7-440e-9021-00b5604d7066-0', usage_metadata={'input_tokens': 32, 'output_tokens': 510, 'total_tokens': 542}),\n",
       "  HumanMessage(content='By the way, where was the capital city of the United Kingdom again?', additional_kwargs={}, response_metadata={}, name='Mert', id='a0433bd9-3618-4eef-aa35-139508cf45b4'),\n",
       "  AIMessage(content='The capital city of the United Kingdom is London.', additional_kwargs={}, response_metadata={'model': 'llama3.2:1b', 'created_at': '2025-01-05T17:05:19.564497167Z', 'done': True, 'done_reason': 'stop', 'total_duration': 109005133, 'load_duration': 15031941, 'prompt_eval_count': 40, 'prompt_eval_duration': 2000000, 'eval_count': 11, 'eval_duration': 91000000, 'message': Message(role='assistant', content='', images=None, tool_calls=None)}, id='run-6249dd24-f87c-42c8-bc84-147708483222-0', usage_metadata={'input_tokens': 40, 'output_tokens': 11, 'total_tokens': 51})]}"
      ]
     },
     "execution_count": 42,
     "metadata": {},
     "output_type": "execute_result"
    }
   ],
   "source": [
    "messages_out_trim"
   ]
  },
  {
   "cell_type": "markdown",
   "id": "38b3db67-380e-46b5-9a6a-20100ba52008",
   "metadata": {},
   "source": [
    "Let's look at the LangSmith trace to see the model invocation:\n",
    "\n",
    "https://smith.langchain.com/public/b153f7e9-f1a5-4d60-8074-f0d7ab5b42ef/r"
   ]
  }
 ],
 "metadata": {
  "kernelspec": {
   "display_name": "llm",
   "language": "python",
   "name": "python3"
  },
  "language_info": {
   "codemirror_mode": {
    "name": "ipython",
    "version": 3
   },
   "file_extension": ".py",
   "mimetype": "text/x-python",
   "name": "python",
   "nbconvert_exporter": "python",
   "pygments_lexer": "ipython3",
   "version": "3.12.3"
  }
 },
 "nbformat": 4,
 "nbformat_minor": 5
}
