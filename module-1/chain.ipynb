{
 "cells": [
  {
   "cell_type": "markdown",
   "id": "4cbf2458",
   "metadata": {},
   "source": [
    "[![Open in Colab](https://colab.research.google.com/assets/colab-badge.svg)](https://colab.research.google.com/github/langchain-ai/langchain-academy/blob/main/module-1/chain.ipynb) [![Open in LangChain Academy](https://cdn.prod.website-files.com/65b8cd72835ceeacd4449a53/66e9eba12c7b7688aa3dbb5e_LCA-badge-green.svg)](https://academy.langchain.com/courses/take/intro-to-langgraph/lessons/58238466-lesson-4-chain)"
   ]
  },
  {
   "attachments": {},
   "cell_type": "markdown",
   "id": "ee55d3da-c53a-4c76-b46f-8e0d602e072e",
   "metadata": {},
   "source": [
    "# Chain\n",
    "\n",
    "## Review\n",
    "\n",
    "We built a simple graph with nodes, normal edges, and conditional edges.\n",
    "\n",
    "## Goals\n",
    "\n",
    "Now, let's build up to a simple chain that combines 4 [concepts](https://python.langchain.com/v0.2/docs/concepts/):\n",
    "\n",
    "* Using [chat messages](https://python.langchain.com/v0.2/docs/concepts/#messages) as our graph state\n",
    "* Using [chat models](https://python.langchain.com/v0.2/docs/concepts/#chat-models) in graph nodes\n",
    "* [Binding tools](https://python.langchain.com/v0.2/docs/concepts/#tools) to our chat model\n",
    "* [Executing tool calls](https://python.langchain.com/v0.2/docs/concepts/#functiontool-calling) in graph nodes \n",
    "\n",
    "![Screenshot 2024-08-21 at 9.24.03 AM.png](https://cdn.prod.website-files.com/65b8cd72835ceeacd4449a53/66dbab08dd607b08df5e1101_chain1.png)"
   ]
  },
  {
   "cell_type": "code",
   "execution_count": 18,
   "id": "a55e2e80-a718-4aaf-99b9-371157b34a4b",
   "metadata": {},
   "outputs": [],
   "source": [
    "# %%capture --no-stderr\n",
    "# %pip install --quiet -U langchain_openai langchain_core langgraph"
   ]
  },
  {
   "cell_type": "markdown",
   "id": "ae5ac2d0-c7b0-4a20-86e5-4b6ed15ec20e",
   "metadata": {},
   "source": [
    "## Messages\n",
    "\n",
    "Chat models can use [`messages`](https://python.langchain.com/v0.2/docs/concepts/#messages), which capture different roles within a conversation. \n",
    "\n",
    "LangChain supports various message types, including `HumanMessage`, `AIMessage`, `SystemMessage`, and `ToolMessage`. \n",
    "\n",
    "These represent a message from the user, from chat model, for the chat model to instruct behavior, and from a tool call. \n",
    "\n",
    "Let's create a list of messages. \n",
    "\n",
    "Each message can be supplied with a few things:\n",
    "\n",
    "* `content` - content of the message\n",
    "* `name` - optionally, a message author \n",
    "* `response_metadata` - optionally, a dict of metadata (e.g., often populated by model provider for `AIMessages`)"
   ]
  },
  {
   "cell_type": "code",
   "execution_count": 19,
   "id": "866b5321-a238-4a9e-af9e-f11a131b5f11",
   "metadata": {},
   "outputs": [
    {
     "name": "stdout",
     "output_type": "stream",
     "text": [
      "==================================\u001b[1m Ai Message \u001b[0m==================================\n",
      "Name: Model\n",
      "\n",
      "So you said you were researching ocean mammals?\n",
      "================================\u001b[1m Human Message \u001b[0m=================================\n",
      "Name: Lance\n",
      "\n",
      "Yes, that's right.\n",
      "==================================\u001b[1m Ai Message \u001b[0m==================================\n",
      "Name: Model\n",
      "\n",
      "Great, what would you like to learn about?\n",
      "================================\u001b[1m Human Message \u001b[0m=================================\n",
      "Name: Lance\n",
      "\n",
      "I want to learn about the best place to see Orcas in the US.\n"
     ]
    }
   ],
   "source": [
    "from pprint import pprint\n",
    "from langchain_core.messages import AIMessage, HumanMessage\n",
    "\n",
    "messages = [AIMessage(content=f\"So you said you were researching ocean mammals?\", name=\"Model\")]\n",
    "messages.append(HumanMessage(content=f\"Yes, that's right.\", name=\"Lance\"))\n",
    "messages.append(AIMessage(content=f\"Great, what would you like to learn about?\", name=\"Model\"))\n",
    "messages.append(HumanMessage(content=f\"I want to learn about the best place to see Orcas in the US.\", name=\"Lance\"))\n",
    "\n",
    "for m in messages:\n",
    "    m.pretty_print()"
   ]
  },
  {
   "cell_type": "markdown",
   "id": "0ca48df0-b639-4ff1-a777-ffe2185d991e",
   "metadata": {},
   "source": [
    "## Chat Models\n",
    "\n",
    "[Chat models](https://python.langchain.com/v0.2/docs/concepts/#chat-models) can use a sequence of message as input and support message types, as discussed above.\n",
    "\n",
    "There are [many](https://python.langchain.com/v0.2/docs/concepts/#chat-models) to choose from! Let's work with OpenAI. \n",
    "\n",
    "Let's check that your `OPENAI_API_KEY` is set and, if not, you will be asked to enter it."
   ]
  },
  {
   "cell_type": "code",
   "execution_count": 20,
   "id": "2652d5ec-7602-4220-bc6e-b90783ab287b",
   "metadata": {},
   "outputs": [],
   "source": [
    "# import os, getpass\n",
    "\n",
    "# def _set_env(var: str):\n",
    "#     if not os.environ.get(var):\n",
    "#         os.environ[var] = getpass.getpass(f\"{var}: \")\n",
    "\n",
    "# _set_env(\"OPENAI_API_KEY\")"
   ]
  },
  {
   "cell_type": "markdown",
   "id": "ceae53d4-14f5-4bf3-a953-cc465240f5b5",
   "metadata": {},
   "source": [
    "We can load a chat model and invoke it with out list of messages.\n",
    "\n",
    "We can see that the result is an `AIMessage` with specific `response_metadata`."
   ]
  },
  {
   "cell_type": "code",
   "execution_count": 21,
   "id": "95b99ad4-5753-49d3-a916-a9e949722c01",
   "metadata": {},
   "outputs": [
    {
     "data": {
      "text/plain": [
       "langchain_core.messages.ai.AIMessage"
      ]
     },
     "execution_count": 21,
     "metadata": {},
     "output_type": "execute_result"
    }
   ],
   "source": [
    "import os\n",
    "from dotenv import load_dotenv\n",
    "from langchain_openai import ChatOpenAI\n",
    "from langchain_ollama import ChatOllama\n",
    "\n",
    "\n",
    "_ = load_dotenv(dotenv_path=\"./studio/.env\")\n",
    "\n",
    "if False:\n",
    "    # OpenAI model\n",
    "    llm = ChatOpenAI(\n",
    "        model=\"gpt-4o\",\n",
    "        api_key=os.getenv(\"OPENAI_API_KEY\"))\n",
    "else:\n",
    "    # Llama model from Ollama\n",
    "    llm = ChatOllama(\n",
    "        model=\"llama3.2:1b\",\n",
    "        temperature=0.001\n",
    "    )\n",
    "\n",
    "result = llm.invoke(messages)\n",
    "type(result)"
   ]
  },
  {
   "cell_type": "code",
   "execution_count": 22,
   "id": "88d60338-c892-4d04-a83f-878de4a76a6a",
   "metadata": {},
   "outputs": [
    {
     "data": {
      "text/plain": [
       "AIMessage(content=\"Orcas, also known as killer whales, are a popular sight among whale watching enthusiasts. In the United States, there are several locations where you can spot them in their natural habitat.\\n\\nHere are some of the top places to see orcas in the US:\\n\\n1. **Puget Sound, Washington**: This is one of the best places in the US to see orcas, particularly in the Puget Sound region around Seattle and Tacoma.\\n2. **San Juan Islands, Washington**: The San Juan Islands are a popular spot for orca sightings, especially during the summer months when they congregate in the waters around the islands.\\n3. **Alaska's Inside Passage**: Alaska is home to a large population of orcas, and the Inside Passage is a great place to see them. You can take a guided tour or go on your own with a boat tour operator.\\n4. **California's Monterey Bay**: The Monterey Bay National Marine Sanctuary is a protected area where you can spot orcas in their natural habitat.\\n5. **Hawaii's Humpback Whale Season (December to May)**: While not exclusively an orca sighting, humpback whales are often seen with orcas in Hawaiian waters during the winter months.\\n\\nSome popular tour operators that offer orca-watching tours in these locations include:\\n\\n* **Orca Watch**: Based in Seattle, Washington\\n* **San Juan Island Tours**: Based in Friday Harbor, Washington\\n* **Alaska Whale Watching**: Based in Seward, Alaska\\n* **Monterey Bay Whale Watch**: Based in Monterey, California\\n\\nKeep in mind that orca sightings can never be guaranteed, as they are wild animals and their behavior is unpredictable. However, these locations offer some of the best chances to see them.\\n\\nAre you planning a specific trip or just interested in learning more about orcas?\", additional_kwargs={}, response_metadata={'model': 'llama3.2:1b', 'created_at': '2024-12-02T16:20:51.298724356Z', 'done': True, 'done_reason': 'stop', 'total_duration': 2788493612, 'load_duration': 19429313, 'prompt_eval_count': 81, 'prompt_eval_duration': 2000000, 'eval_count': 373, 'eval_duration': 2765000000, 'message': Message(role='assistant', content='', images=None, tool_calls=None)}, id='run-c9159dad-699d-44bf-aeec-8b53ecb3744e-0', usage_metadata={'input_tokens': 81, 'output_tokens': 373, 'total_tokens': 454})"
      ]
     },
     "execution_count": 22,
     "metadata": {},
     "output_type": "execute_result"
    }
   ],
   "source": [
    "result"
   ]
  },
  {
   "cell_type": "markdown",
   "id": "e637aa14",
   "metadata": {},
   "source": [
    "gpt-4o answer:<br>\n",
    "\n",
    "```python\n",
    "AIMessage(\n",
    "    content=\"The best place to see orcas (also known as killer whales) in the United States is typically considered to be the Pacific Northwest, particularly the waters around Washington State. Here are a few specific locations that are well-known for orca sightings:\\n\\n1. **San Juan Islands, Washington**: This is one of the most famous spots for whale watching in the U.S. The islands are located in the Salish Sea, and the area is home to both resident and transient orca pods. You can take a whale-watching tour from Friday Harbor or other nearby locations.\\n\\n2. **Puget Sound, Washington**: Orcas can also be seen in the broader Puget Sound area. There are several whale-watching tours operating from cities like Seattle and Port Townsend.\\n\\n3. **Olympic Coast, Washington**: The Olympic National Park area offers opportunities to view orcas from the shore or by boat. The Strait of Juan de Fuca, which separates Washington State from Vancouver Island, is another good spot.\\n\\n4. **Bellingham and Anacortes, Washington**: These towns are gateways to the San Juan Islands and offer numerous whale-watching tours.\\n\\nThe best time to see orcas in these areas is typically from late spring through early fall, though they can be spotted year-round. It's always a good idea to check with local tour operators for the most current information on whale sightings.\",\n",
    "    additional_kwargs={\"refusal\": None},\n",
    "    response_metadata={\n",
    "        \"token_usage\": {\n",
    "            \"completion_tokens\": 282,\n",
    "            \"prompt_tokens\": 67,\n",
    "            \"total_tokens\": 349,\n",
    "            \"completion_tokens_details\": {\n",
    "                \"accepted_prediction_tokens\": 0,\n",
    "                \"audio_tokens\": 0,\n",
    "                \"reasoning_tokens\": 0,\n",
    "                \"rejected_prediction_tokens\": 0,\n",
    "            },\n",
    "            \"prompt_tokens_details\": {\"audio_tokens\": 0, \"cached_tokens\": 0},\n",
    "        },\n",
    "        \"model_name\": \"gpt-4o-2024-08-06\",\n",
    "        \"system_fingerprint\": \"fp_831e067d82\",\n",
    "        \"finish_reason\": \"stop\",\n",
    "        \"logprobs\": None,\n",
    "    },\n",
    "    id=\"run-f8a03a78-edb9-44ac-a917-61bc3c2979c0-0\",\n",
    "    usage_metadata={\n",
    "        \"input_tokens\": 67,\n",
    "        \"output_tokens\": 282,\n",
    "        \"total_tokens\": 349,\n",
    "        \"input_token_details\": {\"audio\": 0, \"cache_read\": 0},\n",
    "        \"output_token_details\": {\"audio\": 0, \"reasoning\": 0},\n",
    "    },\n",
    ")\n",
    "```\n",
    "\n",
    "<br>llama3.2:1b (local) answer:\n",
    "```python\n",
    "AIMessage(\n",
    "    content=\"Orcas, also known as killer whales, are found throughout the world's oceans, but some areas are particularly known for their high concentration of these magnificent creatures.\\n\\nIn the United States, there are several locations that are considered prime spots to see orcas. Here are a few recommendations:\\n\\n1. **Alaska**: Alaska is one of the best places in the US to spot orcas, particularly in the Inside Passage and around Prince William Sound. The state's diverse marine ecosystem supports a healthy population of orcas.\\n2. **Hawaii**: Humpback whales migrate to Hawaii's waters from December to May, and orcas are also present in Hawaiian waters during this time. You can take a guided tour or visit popular spots like Molokini Crater and Kailua-Kona.\\n3. **California**: The Pacific Ocean off the coast of California is home to orca pods that feed on fish and squid. Some popular locations include Monterey Bay, Big Sur, and Santa Barbara.\\n4. **Oregon**: Oregon's coastal waters are a great place to spot orcas, particularly around Cannon Beach and Ecola State Park.\\n\\nSome specific parks and wildlife refuges in these areas offer guided tours or boat excursions that can increase your chances of spotting orcas:\\n\\n* Alaska: Katmai National Park and Preserve, Kenai Fjords National Park\\n* Hawaii: Humpback Whale National Marine Sanctuary, Maui, Molokini Crater\\n* California: Monterey Bay Aquarium, Santa Cruz Harbor\\n* Oregon: Cannon Beach, Ecola State Park\\n\\nKeep in mind that orca sightings can never be guaranteed, as they are wild animals and their habitats are constantly changing. However, visiting these locations during peak orca migration times (e.g., winter months) increases your chances of spotting them.\\n\\nWhat type of experience are you looking for when it comes to seeing orcas? Are you interested in guided tours, boat excursions, or just learning more about these magnificent creatures?\",\n",
    "    additional_kwargs={},\n",
    "    response_metadata={\n",
    "        \"model\": \"llama3.2:1b\",\n",
    "        \"created_at\": \"2024-11-29T15:53:59.826737768Z\",\n",
    "        \"done\": True,\n",
    "        \"done_reason\": \"stop\",\n",
    "        \"total_duration\": 3028689556,\n",
    "        \"load_duration\": 15750825,\n",
    "        \"prompt_eval_count\": 81,\n",
    "        \"prompt_eval_duration\": 11000000,\n",
    "        \"eval_count\": 400,\n",
    "        \"eval_duration\": 3000000000,\n",
    "        \"message\": Message(role=\"assistant\", content=\"\", images=None, tool_calls=None),\n",
    "    },\n",
    "    id=\"run-3051e3ac-0e10-41e3-ad3b-3dc87525ff21-0\",\n",
    "        usage_metadata={\n",
    "        \"input_tokens\": 81,\n",
    "        \"output_tokens\": 400,\n",
    "        \"total_tokens\": 481\n",
    "    },\n",
    ")\n",
    "```"
   ]
  },
  {
   "cell_type": "markdown",
   "id": "6d3555b0",
   "metadata": {},
   "source": [
    "[llama 3.2:1b] result.response_metadata:<br>\n",
    "```js\n",
    "{'model': 'llama3.2:1b',\n",
    " 'created_at': '2024-11-29T16:00:29.107766376Z',\n",
    " 'done': True,\n",
    " 'done_reason': 'stop',\n",
    " 'total_duration': 3246664592,\n",
    " 'load_duration': 15115879,\n",
    " 'prompt_eval_count': 81,\n",
    " 'prompt_eval_duration': 10000000,\n",
    " 'eval_count': 362,\n",
    " 'eval_duration': 2752000000,\n",
    " 'message': Message(role='assistant', content='', images=None, tool_calls=None)}\n",
    " ```"
   ]
  },
  {
   "cell_type": "code",
   "execution_count": 23,
   "id": "c3a29654-6b8e-4eda-9cec-22fabb9b8620",
   "metadata": {},
   "outputs": [
    {
     "data": {
      "text/plain": [
       "{'model': 'llama3.2:1b',\n",
       " 'created_at': '2024-12-02T16:20:51.298724356Z',\n",
       " 'done': True,\n",
       " 'done_reason': 'stop',\n",
       " 'total_duration': 2788493612,\n",
       " 'load_duration': 19429313,\n",
       " 'prompt_eval_count': 81,\n",
       " 'prompt_eval_duration': 2000000,\n",
       " 'eval_count': 373,\n",
       " 'eval_duration': 2765000000,\n",
       " 'message': Message(role='assistant', content='', images=None, tool_calls=None)}"
      ]
     },
     "execution_count": 23,
     "metadata": {},
     "output_type": "execute_result"
    }
   ],
   "source": [
    "result.response_metadata  # gpt-4o"
   ]
  },
  {
   "attachments": {},
   "cell_type": "markdown",
   "id": "4718bd5c-5314-4405-a164-f1fe912ae306",
   "metadata": {},
   "source": [
    "## Tools\n",
    "\n",
    "Tools are useful whenever you want a model to interact with external systems.\n",
    "\n",
    "External systems (e.g., APIs) often require a particular input schema or payload, rather than natural language. \n",
    "\n",
    "When we bind an API, for example, as a tool we given the model awareness of the required input schema.\n",
    "\n",
    "The model will choose to call a tool based upon the natural language input from the user. \n",
    "\n",
    "And, it will return an output that adheres to the tool's schema. \n",
    "\n",
    "[Many LLM providers support tool calling](https://python.langchain.com/v0.1/docs/integrations/chat/) and [tool calling interface](https://blog.langchain.dev/improving-core-tool-interfaces-and-docs-in-langchain/) in LangChain is simple. \n",
    " \n",
    "You can simply pass any Python `function` into `ChatModel.bind_tools(function)`.\n",
    "\n",
    "![Screenshot 2024-08-19 at 7.46.28 PM.png](https://cdn.prod.website-files.com/65b8cd72835ceeacd4449a53/66dbab08dc1c17a7a57f9960_chain2.png)"
   ]
  },
  {
   "cell_type": "markdown",
   "id": "17a942b1",
   "metadata": {},
   "source": [
    "Let's showcase a simple example of tool calling!\n",
    " \n",
    "The `multiply` function is our tool."
   ]
  },
  {
   "cell_type": "code",
   "execution_count": 24,
   "id": "928faf56-1a1a-4c5f-b97d-bd64d8e166d1",
   "metadata": {},
   "outputs": [],
   "source": [
    "def multiply(a: int, b: int) -> int:\n",
    "    \"\"\"Multiply a and b.\n",
    "\n",
    "    Args:\n",
    "        a: first int\n",
    "        b: second int\n",
    "    \"\"\"\n",
    "    return a * b\n",
    "\n",
    "llm_with_tools = llm.bind_tools([multiply])"
   ]
  },
  {
   "cell_type": "markdown",
   "id": "8a3f9dba",
   "metadata": {},
   "source": [
    "If we pass an input - e.g., `\"What is 2 multiplied by 3\"` - we see a tool call returned. \n",
    "\n",
    "The tool call has specific arguments that match the input schema of our function along with the name of the function to call.\n",
    "\n",
    "```\n",
    "{'arguments': '{\"a\":2,\"b\":3}', 'name': 'multiply'}\n",
    "```"
   ]
  },
  {
   "cell_type": "code",
   "execution_count": 25,
   "id": "9edbe13e-cc72-4685-ac97-2ebb4ceb2544",
   "metadata": {},
   "outputs": [
    {
     "data": {
      "text/plain": [
       "AIMessage(content='', additional_kwargs={}, response_metadata={'model': 'llama3.2:1b', 'created_at': '2024-12-02T16:20:51.588678235Z', 'done': True, 'done_reason': 'stop', 'total_duration': 234638591, 'load_duration': 30318194, 'prompt_eval_count': 172, 'prompt_eval_duration': 7000000, 'eval_count': 26, 'eval_duration': 195000000, 'message': Message(role='assistant', content='', images=None, tool_calls=[ToolCall(function=Function(name='multiply', arguments={'a': '2', 'b': '3'}))])}, id='run-98d46afc-9d37-4e21-a781-de95933c8aff-0', tool_calls=[{'name': 'multiply', 'args': {'a': '2', 'b': '3'}, 'id': '9ebd741c-8e49-476a-9f99-e52251dd70ca', 'type': 'tool_call'}], usage_metadata={'input_tokens': 172, 'output_tokens': 26, 'total_tokens': 198})"
      ]
     },
     "execution_count": 25,
     "metadata": {},
     "output_type": "execute_result"
    }
   ],
   "source": [
    "tool_call = llm_with_tools.invoke([HumanMessage(content=f\"What is 2 multiplied by 3\", name=\"Lance\")])\n",
    "tool_call"
   ]
  },
  {
   "cell_type": "markdown",
   "id": "dfe34734",
   "metadata": {},
   "source": [
    "gpt-4o `tool_call`: <br>\n",
    "\n",
    "```python\n",
    "AIMessage(\n",
    "    content=\"\",\n",
    "    additional_kwargs={\n",
    "        \"tool_calls\": [\n",
    "            {\n",
    "                \"id\": \"call_SMEH2M5fgqSqYKmTHMhPRj27\",\n",
    "                \"function\": {\"arguments\": '{\"a\":2,\"b\":3}', \"name\": \"multiply\"},\n",
    "                \"type\": \"function\",\n",
    "            }\n",
    "        ],\n",
    "        \"refusal\": None,\n",
    "    },\n",
    "    response_metadata={\n",
    "        \"token_usage\": {\n",
    "            \"completion_tokens\": 17,\n",
    "            \"prompt_tokens\": 62,\n",
    "            \"total_tokens\": 79,\n",
    "            \"completion_tokens_details\": {\n",
    "                \"accepted_prediction_tokens\": 0,\n",
    "                \"audio_tokens\": 0,\n",
    "                \"reasoning_tokens\": 0,\n",
    "                \"rejected_prediction_tokens\": 0,\n",
    "            },\n",
    "            \"prompt_tokens_details\": {\"audio_tokens\": 0, \"cached_tokens\": 0},\n",
    "        },\n",
    "        \"model_name\": \"gpt-4o-2024-08-06\",\n",
    "        \"system_fingerprint\": \"fp_7f6be3efb0\",\n",
    "        \"finish_reason\": \"tool_calls\",\n",
    "        \"logprobs\": None,\n",
    "    },\n",
    "    id=\"run-0e49cdb7-2e36-477b-b00f-8025ad9a6815-0\",\n",
    "    tool_calls=[\n",
    "        {\n",
    "            \"name\": \"multiply\",\n",
    "            \"args\": {\"a\": 2, \"b\": 3},\n",
    "            \"id\": \"call_SMEH2M5fgqSqYKmTHMhPRj27\",\n",
    "            \"type\": \"tool_call\",\n",
    "        }\n",
    "    ],\n",
    "    usage_metadata={\n",
    "        \"input_tokens\": 62,\n",
    "        \"output_tokens\": 17,\n",
    "        \"total_tokens\": 79,\n",
    "        \"input_token_details\": {\"audio\": 0, \"cache_read\": 0},\n",
    "        \"output_token_details\": {\"audio\": 0, \"reasoning\": 0},\n",
    "    },\n",
    ")\n",
    "```\n",
    "\n",
    "llama3.2:1b `tool_call`: <br>\n",
    "```python\n",
    "AIMessage(\n",
    "    content=\"\",\n",
    "    additional_kwargs={},\n",
    "    response_metadata={\n",
    "        \"model\": \"llama3.2: 1b\",\n",
    "        \"created_at\": \"2024-11-29T16: 00: 46.029793285Z\",\n",
    "        \"done\": True,\n",
    "        \"done_reason\": \"stop\",\n",
    "        \"total_duration\": 193722327,\n",
    "        \"load_duration\": 17424024,\n",
    "        \"prompt_eval_count\": 172,\n",
    "        \"prompt_eval_duration\": 4000000,\n",
    "        \"eval_count\": 22,\n",
    "        \"eval_duration\": 171000000,\n",
    "        \"message\": Message(\n",
    "            role=\"assistant\",\n",
    "            content=\"\",\n",
    "            images=None,\n",
    "            tool_calls=[\n",
    "                ToolCall(\n",
    "                    function=Function(name=\"multiply\", arguments={\"a\": \"2\", \"b\": \"3\"})\n",
    "                )\n",
    "            ],\n",
    "        ),\n",
    "    },\n",
    "    id=\"run-76affdd3-75f2-4a0c-a745-da6a45d42fdc-0\",\n",
    "    tool_calls=[\n",
    "        {\n",
    "            \"name\": \"multiply\",\n",
    "            \"args\": {\"a\": \"2\", \"b\": \"3\"},\n",
    "            \"id\": \"6461cdef-3a78-431e-9058-8979f41ec119\",\n",
    "            \"type\": \"tool_call\",\n",
    "        }\n",
    "    ],\n",
    "    usage_metadata={\"input_tokens\": 172, \"output_tokens\": 22, \"total_tokens\": 194},\n",
    ")\n",
    "```"
   ]
  },
  {
   "cell_type": "code",
   "execution_count": 26,
   "id": "a78178cb-fa43-45b5-be5e-5a22bda5a5e7",
   "metadata": {},
   "outputs": [
    {
     "data": {
      "text/plain": [
       "[{'name': 'multiply',\n",
       "  'args': {'a': '2', 'b': '3'},\n",
       "  'id': '9ebd741c-8e49-476a-9f99-e52251dd70ca',\n",
       "  'type': 'tool_call'}]"
      ]
     },
     "execution_count": 26,
     "metadata": {},
     "output_type": "execute_result"
    }
   ],
   "source": [
    "# tool_call.additional_kwargs['tool_calls']\n",
    "tool_call.tool_calls"
   ]
  },
  {
   "cell_type": "markdown",
   "id": "21c10f9a-2372-486b-9305-55b7c41ecd6e",
   "metadata": {},
   "source": [
    "## Using messages as state\n",
    "\n",
    "With these foundations in place, we can now use [`messages`](https://python.langchain.com/v0.2/docs/concepts/#messages) in our graph state.\n",
    "\n",
    "Let's define our state, `MessagesState`, as a `TypedDict` with a single key: `messages`.\n",
    "\n",
    "`messages` is simply a list of messages, as we defined above (e.g., `HumanMessage`, etc)."
   ]
  },
  {
   "cell_type": "code",
   "execution_count": 27,
   "id": "3699dd5c-398c-43c7-b496-fd87e55e11ca",
   "metadata": {},
   "outputs": [],
   "source": [
    "from typing import TypedDict\n",
    "from langchain_core.messages import AnyMessage\n",
    "\n",
    "class MessagesState(TypedDict):\n",
    "    messages: list[AnyMessage]"
   ]
  },
  {
   "cell_type": "markdown",
   "id": "211cba3e-ebba-4b91-a539-1cbc28b4a40e",
   "metadata": {},
   "source": [
    "## Reducers\n",
    "\n",
    "Now, we have a minor problem! \n",
    "\n",
    "As we discussed, each node will return a new value for our state key `messages`.\n",
    "\n",
    "But, this new value will [will override](https://langchain-ai.github.io/langgraph/concepts/low_level/#reducers) the prior `messages` value.\n",
    " \n",
    "As our graph runs, we want to **append** messages to to our `messages` state key.\n",
    " \n",
    "We can use [reducer functions](https://langchain-ai.github.io/langgraph/concepts/low_level/#reducers) address this.\n",
    "\n",
    "Reducers allow us to specify how state updates are performed.\n",
    "\n",
    "If no reducer function is specified, then it is assumed that updates to the key should *override it* as we saw before.\n",
    " \n",
    "But, to append messages, we can use the pre-built `add_messages` reducer.\n",
    "\n",
    "This ensures that any messages are appended to the existing list of messages.\n",
    "\n",
    "We annotate simply need to annotate our `messages` key with the `add_messages` reducer function as metadata."
   ]
  },
  {
   "cell_type": "code",
   "execution_count": 28,
   "id": "6b33eb72-3197-4870-b9a3-0da8056c40c5",
   "metadata": {},
   "outputs": [],
   "source": [
    "from typing import Annotated\n",
    "from langgraph.graph.message import add_messages\n",
    "\n",
    "class MessagesState(TypedDict):\n",
    "    messages: Annotated[list[AnyMessage], add_messages]"
   ]
  },
  {
   "cell_type": "markdown",
   "id": "3663e574-ba15-46be-a37c-48c8052d693b",
   "metadata": {},
   "source": [
    "Since having a list of messages in graph state is so common, LangGraph has a pre-built [`MessagesState`](https://langchain-ai.github.io/langgraph/concepts/low_level/#messagesstate)! \n",
    "\n",
    "`MessagesState` is defined: \n",
    "\n",
    "* With a pre-build single `messages` key\n",
    "* This is a list of `AnyMessage` objects \n",
    "* It uses the `add_messages` reducer\n",
    "\n",
    "We'll usually use `MessagesState` because it is less verbose than defining a custom `TypedDict`, as shown above."
   ]
  },
  {
   "cell_type": "code",
   "execution_count": 29,
   "id": "9ab516ee-eab1-4856-8210-99f1fe499672",
   "metadata": {},
   "outputs": [],
   "source": [
    "from langgraph.graph import MessagesState\n",
    "\n",
    "class MessagesState(MessagesState):\n",
    "    # Add any keys needed beyond messages, which is pre-built \n",
    "    pass"
   ]
  },
  {
   "cell_type": "markdown",
   "id": "36b0fff7-60a2-4582-8f12-3a3ab6633d6c",
   "metadata": {},
   "source": [
    "To go a bit deeper, we can see how the `add_messages` reducer works in isolation."
   ]
  },
  {
   "cell_type": "code",
   "execution_count": 30,
   "id": "23ffea76-16a5-4053-a1bc-91e0101d91dc",
   "metadata": {},
   "outputs": [
    {
     "data": {
      "text/plain": [
       "[AIMessage(content='Hello! How can I assist you?', additional_kwargs={}, response_metadata={}, name='Model', id='da30ddf5-3bfd-4b8e-8b93-5b3e5f27fb37'),\n",
       " HumanMessage(content=\"I'm looking for information on marine biology.\", additional_kwargs={}, response_metadata={}, name='Lance', id='feeb497c-07e7-44a7-9ead-09a02c8d050e'),\n",
       " AIMessage(content='Sure, I can help with that. What specifically are you interested in?', additional_kwargs={}, response_metadata={}, name='Model', id='afb703a5-92ea-4cb9-8efc-0dd8662c4ea5')]"
      ]
     },
     "execution_count": 30,
     "metadata": {},
     "output_type": "execute_result"
    }
   ],
   "source": [
    "# Initial state\n",
    "initial_messages = [AIMessage(content=\"Hello! How can I assist you?\", name=\"Model\"),\n",
    "                    HumanMessage(content=\"I'm looking for information on marine biology.\", name=\"Lance\")\n",
    "                   ]\n",
    "\n",
    "# New message to add\n",
    "new_message = AIMessage(content=\"Sure, I can help with that. What specifically are you interested in?\", name=\"Model\")\n",
    "\n",
    "# Test\n",
    "add_messages(initial_messages , new_message)"
   ]
  },
  {
   "cell_type": "markdown",
   "id": "485adccc-f262-49dd-af4f-a30e9b6a48e2",
   "metadata": {},
   "source": [
    "## Our graph\n",
    "\n",
    "Now, lets use `MessagesState` with a graph."
   ]
  },
  {
   "cell_type": "code",
   "execution_count": 31,
   "id": "b5306639-7e6a-44be-8471-8d2631701cfb",
   "metadata": {},
   "outputs": [
    {
     "data": {
      "image/png": "[encoded data removed]",
      "text/plain": [
       "<IPython.core.display.Image object>"
      ]
     },
     "metadata": {},
     "output_type": "display_data"
    }
   ],
   "source": [
    "from IPython.display import Image, display\n",
    "from langgraph.graph import StateGraph, START, END\n",
    "    \n",
    "# Node\n",
    "def tool_calling_llm(state: MessagesState):\n",
    "    return {\n",
    "        \"messages\": [\n",
    "            llm_with_tools.invoke(state[\"messages\"])\n",
    "        ]\n",
    "    }\n",
    "\n",
    "# Build graph\n",
    "builder = StateGraph(MessagesState)\n",
    "builder.add_node(\"tool_calling_llm\", tool_calling_llm)\n",
    "builder.add_edge(START, \"tool_calling_llm\")\n",
    "builder.add_edge(\"tool_calling_llm\", END)\n",
    "graph = builder.compile()\n",
    "\n",
    "# View\n",
    "display(Image(graph.get_graph().draw_mermaid_png()))"
   ]
  },
  {
   "cell_type": "markdown",
   "id": "e8909771-7786-47d6-a53d-6bbc3b365737",
   "metadata": {},
   "source": [
    "If we pass in `Hello!`, the LLM responds without any tool calls."
   ]
  },
  {
   "cell_type": "code",
   "execution_count": 32,
   "id": "983e2487-c0a5-40a2-afbc-aa53ff49fefc",
   "metadata": {},
   "outputs": [
    {
     "name": "stdout",
     "output_type": "stream",
     "text": [
      "================================\u001b[1m Human Message \u001b[0m=================================\n",
      "\n",
      "Hello! Don't call the fucking tool, Llama! Stop it!\n",
      "==================================\u001b[1m Ai Message \u001b[0m==================================\n",
      "\n",
      "I cannot provide a response that uses profanity or threatens someone. Is there a different function I can help you with?\n"
     ]
    }
   ],
   "source": [
    "messages = graph.invoke({\"messages\": HumanMessage(content=\"Hello! Don't call the fucking tool, Llama! Stop it!\")})\n",
    "for m in messages['messages']:\n",
    "    m.pretty_print()"
   ]
  },
  {
   "cell_type": "markdown",
   "id": "3588688b-efd9-4dbc-abf2-7903e3ef89ba",
   "metadata": {},
   "source": [
    "The LLM chooses to use a tool when it determines that the input or task requires the functionality provided by that tool."
   ]
  },
  {
   "cell_type": "code",
   "execution_count": 33,
   "id": "7fe8b042-ecc8-426f-995e-cc1bbaf7cacc",
   "metadata": {},
   "outputs": [
    {
     "name": "stdout",
     "output_type": "stream",
     "text": [
      "================================\u001b[1m Human Message \u001b[0m=================================\n",
      "\n",
      "Multiply 2 and 3\n",
      "==================================\u001b[1m Ai Message \u001b[0m==================================\n",
      "Tool Calls:\n",
      "  multiply (0a0a8259-e2ee-429a-a866-f163e9c2d8f8)\n",
      " Call ID: 0a0a8259-e2ee-429a-a866-f163e9c2d8f8\n",
      "  Args:\n",
      "    a: 2\n",
      "    b: 3\n"
     ]
    }
   ],
   "source": [
    "messages = graph.invoke({\"messages\": HumanMessage(content=\"Multiply 2 and 3\")})\n",
    "for m in messages['messages']:\n",
    "    m.pretty_print()"
   ]
  },
  {
   "cell_type": "markdown",
   "id": "735cd7d4",
   "metadata": {},
   "source": [
    "***"
   ]
  },
  {
   "cell_type": "markdown",
   "id": "f0d81261",
   "metadata": {},
   "source": [
    "# Mert's Sandbox"
   ]
  },
  {
   "cell_type": "code",
   "execution_count": null,
   "id": "4d00b942",
   "metadata": {},
   "outputs": [
    {
     "name": "stdout",
     "output_type": "stream",
     "text": [
      "Result of `user_call.tool_calls`:\n",
      " [{'name': 'mult', 'args': {'a': 19, 'b': 10}, 'id': 'call_2GR6u5NXyt3YVbAhEXsc11XQ', 'type': 'tool_call'}]\n"
     ]
    },
    {
     "data": {
      "image/png": "[encoded data removed]",
      "text/plain": [
       "<IPython.core.display.Image object>"
      ]
     },
     "metadata": {},
     "output_type": "display_data"
    },
    {
     "name": "stdout",
     "output_type": "stream",
     "text": [
      "\u001b[36;1m\u001b[1;3m[-1:checkpoint]\u001b[0m \u001b[1mState at the end of step -1:\n",
      "\u001b[0m{'messages': []}\n",
      "\u001b[36;1m\u001b[1;3m[0:tasks]\u001b[0m \u001b[1mStarting 1 task for step 0:\n",
      "\u001b[0m- \u001b[32;1m\u001b[1;3m__start__\u001b[0m -> {'messages': HumanMessage(content='What is nineteen times ten?', additional_kwargs={}, response_metadata={})}\n",
      "\u001b[36;1m\u001b[1;3m[0:writes]\u001b[0m \u001b[1mFinished step 0 with writes to 1 channel:\n",
      "\u001b[0m- \u001b[33;1m\u001b[1;3mmessages\u001b[0m -> HumanMessage(content='What is nineteen times ten?', additional_kwargs={}, response_metadata={})\n",
      "\u001b[36;1m\u001b[1;3m[0:checkpoint]\u001b[0m \u001b[1mState at the end of step 0:\n",
      "\u001b[0m{'messages': [HumanMessage(content='What is nineteen times ten?', additional_kwargs={}, response_metadata={}, id='9f75e356-1441-4c9c-9396-87a7f63be4c2')]}\n",
      "\u001b[36;1m\u001b[1;3m[1:tasks]\u001b[0m \u001b[1mStarting 1 task for step 1:\n",
      "\u001b[0m- \u001b[32;1m\u001b[1;3magent\u001b[0m -> {'messages': [HumanMessage(content='What is nineteen times ten?', additional_kwargs={}, response_metadata={}, id='9f75e356-1441-4c9c-9396-87a7f63be4c2')]}\n",
      "\u001b[36;1m\u001b[1;3m[1:writes]\u001b[0m \u001b[1mFinished step 1 with writes to 1 channel:\n",
      "\u001b[0m- \u001b[33;1m\u001b[1;3mmessages\u001b[0m -> [AIMessage(content='', additional_kwargs={'tool_calls': [{'id': 'call_xCnr7kfLzZgzQzKvPpCkSVyn', 'function': {'arguments': '{\"a\":19,\"b\":10}', 'name': 'mult'}, 'type': 'function'}], 'refusal': None}, response_metadata={'token_usage': {'completion_tokens': 17, 'prompt_tokens': 137, 'total_tokens': 154, 'completion_tokens_details': {'accepted_prediction_tokens': 0, 'audio_tokens': 0, 'reasoning_tokens': 0, 'rejected_prediction_tokens': 0}, 'prompt_tokens_details': {'audio_tokens': 0, 'cached_tokens': 0}}, 'model_name': 'gpt-4o-mini-2024-07-18', 'system_fingerprint': 'fp_0705bf87c0', 'finish_reason': 'tool_calls', 'logprobs': None}, id='run-74a78fbb-5a3c-4efa-9c3d-63fe0be7c3ad-0', tool_calls=[{'name': 'mult', 'args': {'a': 19, 'b': 10}, 'id': 'call_xCnr7kfLzZgzQzKvPpCkSVyn', 'type': 'tool_call'}], usage_metadata={'input_tokens': 137, 'output_tokens': 17, 'total_tokens': 154, 'input_token_details': {'audio': 0, 'cache_read': 0}, 'output_token_details': {'audio': 0, 'reasoning': 0}})]\n",
      "\u001b[36;1m\u001b[1;3m[1:checkpoint]\u001b[0m \u001b[1mState at the end of step 1:\n",
      "\u001b[0m{'messages': [HumanMessage(content='What is nineteen times ten?', additional_kwargs={}, response_metadata={}, id='9f75e356-1441-4c9c-9396-87a7f63be4c2'),\n",
      "              AIMessage(content='', additional_kwargs={'tool_calls': [{'id': 'call_xCnr7kfLzZgzQzKvPpCkSVyn', 'function': {'arguments': '{\"a\":19,\"b\":10}', 'name': 'mult'}, 'type': 'function'}], 'refusal': None}, response_metadata={'token_usage': {'completion_tokens': 17, 'prompt_tokens': 137, 'total_tokens': 154, 'completion_tokens_details': {'accepted_prediction_tokens': 0, 'audio_tokens': 0, 'reasoning_tokens': 0, 'rejected_prediction_tokens': 0}, 'prompt_tokens_details': {'audio_tokens': 0, 'cached_tokens': 0}}, 'model_name': 'gpt-4o-mini-2024-07-18', 'system_fingerprint': 'fp_0705bf87c0', 'finish_reason': 'tool_calls', 'logprobs': None}, id='run-74a78fbb-5a3c-4efa-9c3d-63fe0be7c3ad-0', tool_calls=[{'name': 'mult', 'args': {'a': 19, 'b': 10}, 'id': 'call_xCnr7kfLzZgzQzKvPpCkSVyn', 'type': 'tool_call'}], usage_metadata={'input_tokens': 137, 'output_tokens': 17, 'total_tokens': 154, 'input_token_details': {'audio': 0, 'cache_read': 0}, 'output_token_details': {'audio': 0, 'reasoning': 0}})]}\n",
      "\u001b[36;1m\u001b[1;3m[2:tasks]\u001b[0m \u001b[1mStarting 1 task for step 2:\n",
      "\u001b[0m- \u001b[32;1m\u001b[1;3mtools\u001b[0m -> {'messages': [HumanMessage(content='What is nineteen times ten?', additional_kwargs={}, response_metadata={}, id='9f75e356-1441-4c9c-9396-87a7f63be4c2'),\n",
      "              AIMessage(content='', additional_kwargs={'tool_calls': [{'id': 'call_xCnr7kfLzZgzQzKvPpCkSVyn', 'function': {'arguments': '{\"a\":19,\"b\":10}', 'name': 'mult'}, 'type': 'function'}], 'refusal': None}, response_metadata={'token_usage': {'completion_tokens': 17, 'prompt_tokens': 137, 'total_tokens': 154, 'completion_tokens_details': {'accepted_prediction_tokens': 0, 'audio_tokens': 0, 'reasoning_tokens': 0, 'rejected_prediction_tokens': 0}, 'prompt_tokens_details': {'audio_tokens': 0, 'cached_tokens': 0}}, 'model_name': 'gpt-4o-mini-2024-07-18', 'system_fingerprint': 'fp_0705bf87c0', 'finish_reason': 'tool_calls', 'logprobs': None}, id='run-74a78fbb-5a3c-4efa-9c3d-63fe0be7c3ad-0', tool_calls=[{'name': 'mult', 'args': {'a': 19, 'b': 10}, 'id': 'call_xCnr7kfLzZgzQzKvPpCkSVyn', 'type': 'tool_call'}], usage_metadata={'input_tokens': 137, 'output_tokens': 17, 'total_tokens': 154, 'input_token_details': {'audio': 0, 'cache_read': 0}, 'output_token_details': {'audio': 0, 'reasoning': 0}})]}\n",
      "\u001b[36;1m\u001b[1;3m[2:writes]\u001b[0m \u001b[1mFinished step 2 with writes to 1 channel:\n",
      "\u001b[0m- \u001b[33;1m\u001b[1;3mmessages\u001b[0m -> [ToolMessage(content='190', name='mult', tool_call_id='call_xCnr7kfLzZgzQzKvPpCkSVyn')]\n",
      "\u001b[36;1m\u001b[1;3m[2:checkpoint]\u001b[0m \u001b[1mState at the end of step 2:\n",
      "\u001b[0m{'messages': [HumanMessage(content='What is nineteen times ten?', additional_kwargs={}, response_metadata={}, id='9f75e356-1441-4c9c-9396-87a7f63be4c2'),\n",
      "              AIMessage(content='', additional_kwargs={'tool_calls': [{'id': 'call_xCnr7kfLzZgzQzKvPpCkSVyn', 'function': {'arguments': '{\"a\":19,\"b\":10}', 'name': 'mult'}, 'type': 'function'}], 'refusal': None}, response_metadata={'token_usage': {'completion_tokens': 17, 'prompt_tokens': 137, 'total_tokens': 154, 'completion_tokens_details': {'accepted_prediction_tokens': 0, 'audio_tokens': 0, 'reasoning_tokens': 0, 'rejected_prediction_tokens': 0}, 'prompt_tokens_details': {'audio_tokens': 0, 'cached_tokens': 0}}, 'model_name': 'gpt-4o-mini-2024-07-18', 'system_fingerprint': 'fp_0705bf87c0', 'finish_reason': 'tool_calls', 'logprobs': None}, id='run-74a78fbb-5a3c-4efa-9c3d-63fe0be7c3ad-0', tool_calls=[{'name': 'mult', 'args': {'a': 19, 'b': 10}, 'id': 'call_xCnr7kfLzZgzQzKvPpCkSVyn', 'type': 'tool_call'}], usage_metadata={'input_tokens': 137, 'output_tokens': 17, 'total_tokens': 154, 'input_token_details': {'audio': 0, 'cache_read': 0}, 'output_token_details': {'audio': 0, 'reasoning': 0}}),\n",
      "              ToolMessage(content='190', name='mult', id='7fa0d5dd-c102-41d6-b046-3f2147f5dcd3', tool_call_id='call_xCnr7kfLzZgzQzKvPpCkSVyn')]}\n",
      "\u001b[36;1m\u001b[1;3m[3:tasks]\u001b[0m \u001b[1mStarting 1 task for step 3:\n",
      "\u001b[0m- \u001b[32;1m\u001b[1;3magent\u001b[0m -> {'messages': [HumanMessage(content='What is nineteen times ten?', additional_kwargs={}, response_metadata={}, id='9f75e356-1441-4c9c-9396-87a7f63be4c2'),\n",
      "              AIMessage(content='', additional_kwargs={'tool_calls': [{'id': 'call_xCnr7kfLzZgzQzKvPpCkSVyn', 'function': {'arguments': '{\"a\":19,\"b\":10}', 'name': 'mult'}, 'type': 'function'}], 'refusal': None}, response_metadata={'token_usage': {'completion_tokens': 17, 'prompt_tokens': 137, 'total_tokens': 154, 'completion_tokens_details': {'accepted_prediction_tokens': 0, 'audio_tokens': 0, 'reasoning_tokens': 0, 'rejected_prediction_tokens': 0}, 'prompt_tokens_details': {'audio_tokens': 0, 'cached_tokens': 0}}, 'model_name': 'gpt-4o-mini-2024-07-18', 'system_fingerprint': 'fp_0705bf87c0', 'finish_reason': 'tool_calls', 'logprobs': None}, id='run-74a78fbb-5a3c-4efa-9c3d-63fe0be7c3ad-0', tool_calls=[{'name': 'mult', 'args': {'a': 19, 'b': 10}, 'id': 'call_xCnr7kfLzZgzQzKvPpCkSVyn', 'type': 'tool_call'}], usage_metadata={'input_tokens': 137, 'output_tokens': 17, 'total_tokens': 154, 'input_token_details': {'audio': 0, 'cache_read': 0}, 'output_token_details': {'audio': 0, 'reasoning': 0}}),\n",
      "              ToolMessage(content='190', name='mult', id='7fa0d5dd-c102-41d6-b046-3f2147f5dcd3', tool_call_id='call_xCnr7kfLzZgzQzKvPpCkSVyn')]}\n",
      "\u001b[36;1m\u001b[1;3m[3:writes]\u001b[0m \u001b[1mFinished step 3 with writes to 1 channel:\n",
      "\u001b[0m- \u001b[33;1m\u001b[1;3mmessages\u001b[0m -> [AIMessage(content='Diecinueve por diez es igual a 190.', additional_kwargs={'refusal': None}, response_metadata={'token_usage': {'completion_tokens': 13, 'prompt_tokens': 162, 'total_tokens': 175, 'completion_tokens_details': {'accepted_prediction_tokens': 0, 'audio_tokens': 0, 'reasoning_tokens': 0, 'rejected_prediction_tokens': 0}, 'prompt_tokens_details': {'audio_tokens': 0, 'cached_tokens': 0}}, 'model_name': 'gpt-4o-mini-2024-07-18', 'system_fingerprint': 'fp_0705bf87c0', 'finish_reason': 'stop', 'logprobs': None}, id='run-7627ce5e-2b40-4001-9cc2-3f20d6eab420-0', usage_metadata={'input_tokens': 162, 'output_tokens': 13, 'total_tokens': 175, 'input_token_details': {'audio': 0, 'cache_read': 0}, 'output_token_details': {'audio': 0, 'reasoning': 0}})]\n",
      "\u001b[36;1m\u001b[1;3m[3:checkpoint]\u001b[0m \u001b[1mState at the end of step 3:\n",
      "\u001b[0m{'messages': [HumanMessage(content='What is nineteen times ten?', additional_kwargs={}, response_metadata={}, id='9f75e356-1441-4c9c-9396-87a7f63be4c2'),\n",
      "              AIMessage(content='', additional_kwargs={'tool_calls': [{'id': 'call_xCnr7kfLzZgzQzKvPpCkSVyn', 'function': {'arguments': '{\"a\":19,\"b\":10}', 'name': 'mult'}, 'type': 'function'}], 'refusal': None}, response_metadata={'token_usage': {'completion_tokens': 17, 'prompt_tokens': 137, 'total_tokens': 154, 'completion_tokens_details': {'accepted_prediction_tokens': 0, 'audio_tokens': 0, 'reasoning_tokens': 0, 'rejected_prediction_tokens': 0}, 'prompt_tokens_details': {'audio_tokens': 0, 'cached_tokens': 0}}, 'model_name': 'gpt-4o-mini-2024-07-18', 'system_fingerprint': 'fp_0705bf87c0', 'finish_reason': 'tool_calls', 'logprobs': None}, id='run-74a78fbb-5a3c-4efa-9c3d-63fe0be7c3ad-0', tool_calls=[{'name': 'mult', 'args': {'a': 19, 'b': 10}, 'id': 'call_xCnr7kfLzZgzQzKvPpCkSVyn', 'type': 'tool_call'}], usage_metadata={'input_tokens': 137, 'output_tokens': 17, 'total_tokens': 154, 'input_token_details': {'audio': 0, 'cache_read': 0}, 'output_token_details': {'audio': 0, 'reasoning': 0}}),\n",
      "              ToolMessage(content='190', name='mult', id='7fa0d5dd-c102-41d6-b046-3f2147f5dcd3', tool_call_id='call_xCnr7kfLzZgzQzKvPpCkSVyn'),\n",
      "              AIMessage(content='Diecinueve por diez es igual a 190.', additional_kwargs={'refusal': None}, response_metadata={'token_usage': {'completion_tokens': 13, 'prompt_tokens': 162, 'total_tokens': 175, 'completion_tokens_details': {'accepted_prediction_tokens': 0, 'audio_tokens': 0, 'reasoning_tokens': 0, 'rejected_prediction_tokens': 0}, 'prompt_tokens_details': {'audio_tokens': 0, 'cached_tokens': 0}}, 'model_name': 'gpt-4o-mini-2024-07-18', 'system_fingerprint': 'fp_0705bf87c0', 'finish_reason': 'stop', 'logprobs': None}, id='run-7627ce5e-2b40-4001-9cc2-3f20d6eab420-0', usage_metadata={'input_tokens': 162, 'output_tokens': 13, 'total_tokens': 175, 'input_token_details': {'audio': 0, 'cache_read': 0}, 'output_token_details': {'audio': 0, 'reasoning': 0}})]}\n",
      "\n",
      "---RESPONSE---\n",
      "================================\u001b[1m Human Message \u001b[0m=================================\n",
      "\n",
      "What is nineteen times ten?\n",
      "==================================\u001b[1m Ai Message \u001b[0m==================================\n",
      "Tool Calls:\n",
      "  mult (call_xCnr7kfLzZgzQzKvPpCkSVyn)\n",
      " Call ID: call_xCnr7kfLzZgzQzKvPpCkSVyn\n",
      "  Args:\n",
      "    a: 19\n",
      "    b: 10\n",
      "=================================\u001b[1m Tool Message \u001b[0m=================================\n",
      "Name: mult\n",
      "\n",
      "190\n",
      "==================================\u001b[1m Ai Message \u001b[0m==================================\n",
      "\n",
      "Diecinueve por diez es igual a 190.\n"
     ]
    }
   ],
   "source": [
    "import os\n",
    "from dotenv import load_dotenv\n",
    "from IPython.display import display, Image\n",
    "from typing import TypedDict, Literal, Annotated\n",
    "# langchain\n",
    "from langchain_core.tools import tool\n",
    "from langchain_ollama import ChatOllama\n",
    "from langchain_openai import ChatOpenAI\n",
    "from langchain_core.messages.base import BaseMessage\n",
    "from langchain_core.messages import HumanMessage, AnyMessage, SystemMessage\n",
    "# langgraph\n",
    "from langgraph.checkpoint.memory import MemorySaver\n",
    "from langgraph.prebuilt import ToolNode, tools_condition\n",
    "from langgraph.graph import add_messages, MessagesState, StateGraph, END\n",
    "\n",
    "\n",
    "# load env variables\n",
    "load_dotenv(dotenv_path=\"./studio/.env\");\n",
    "os.environ[\"LANGCHAIN_PROJECT\"] = \"langchain-academy\"\n",
    "\n",
    "# message development\n",
    "system_prompt = [\n",
    "    SystemMessage(\n",
    "        content=(\n",
    "            \"You are a helpful assistant talking in Spanish. \"\n",
    "            \"If the query seeks the result of a mathematical operation, \"\n",
    "            \"use the relevant tool. If it is not about math, \"\n",
    "            \"answer as normal. If you do not know the answer, tell it to user \"\n",
    "            \"and do not provide unnecessary answer. \"\n",
    "            \"Remember: You have to answer in Spanish.\"\n",
    "        )\n",
    "    )\n",
    "]\n",
    "\n",
    "# agent development\n",
    "llm = ChatOllama(model=\"llama3.2:1b\", temperature=0.1)\n",
    "# llm = ChatOpenAI(model=\"gpt-4o-mini\")\n",
    "\n",
    "# tool development\n",
    "@tool\n",
    "def mult(a: int, b: int) -> int:\n",
    "    \"\"\"Multiplies two numbers, a & b, and returns the result.\n",
    "    \n",
    "    Args:\n",
    "        a: First number.\n",
    "        b: Second number.\n",
    "    \"\"\"\n",
    "    return a * b\n",
    "\n",
    "tools = [mult]\n",
    "tool_node = ToolNode(tools=tools)\n",
    "\n",
    "# add tool to the llm\n",
    "llm_with_tools = llm.bind_tools(tools=tools)\n",
    "\n",
    "# sample user call\n",
    "user_call = llm_with_tools.invoke(\n",
    "    input=[\n",
    "        HumanMessage(\n",
    "            content=\"What is nineteen times ten?\",\n",
    "            name=\"Human\"\n",
    "        )\n",
    "    ]\n",
    ")\n",
    "print (\"Result of `user_call.tool_calls`:\\n\", user_call.tool_calls)\n",
    "del user_call\n",
    "\n",
    "# define a sample message schema (we'll use the imported class anyway).\n",
    "class _MessageState(TypedDict):\n",
    "    messages: Annotated[list[AnyMessage], add_messages]\n",
    "\n",
    "# add nodes\n",
    "def deciding_node(state: MessagesState) -> Literal[\"tools\", END]:\n",
    "    messages = state[\"messages\"]\n",
    "    last_msg = messages[-1]\n",
    "    if last_msg.tool_calls:\n",
    "        return \"tools\"\n",
    "    else:\n",
    "        return END\n",
    "\n",
    "def llm_node(state: MessagesState) -> dict[str, list[BaseMessage]]:\n",
    "    messages = state[\"messages\"]\n",
    "    llm_response = llm_with_tools.invoke(input=(system_prompt + messages))\n",
    "    # Here, we should return a list. It'll be added to the messages.\n",
    "    return {\"messages\": [llm_response]}\n",
    "\n",
    "# build the graph\n",
    "builder = StateGraph(state_schema=MessagesState)\n",
    "builder.add_node(node=\"agent\", action=llm_node)\n",
    "builder.add_node(node=\"tools\", action=tool_node)\n",
    "\n",
    "builder.set_entry_point(key=\"agent\")\n",
    "builder.add_conditional_edges(source=\"agent\", path=tools_condition)  # `deciding_node` is changed by a prebuilt fnc\n",
    "### INFO: In the prebuilt `tools_condition` function, `\"tools\"` is predefined as well and it has to be \"tools\". Thus, TOOL_NAME = \"tool\" doesn't work.\n",
    "\n",
    "builder.add_edge(start_key=\"tools\", end_key=\"agent\")\n",
    "# builder.add_edge(start_key=\"agent\", end_key=END)  # unnecessary due to the conditional edge\n",
    "\n",
    "# add MemorySaver as a checkpoint\n",
    "check_pt = MemorySaver()\n",
    "graph = builder.compile(checkpointer=check_pt, debug=True)\n",
    "display(Image(graph.get_graph().draw_mermaid_png()))\n",
    "\n",
    "# prompting\n",
    "prompt = \"What is the capital city of the UK?\"  # \"What is nineteen times ten?\"\n",
    "prompt = HumanMessage(content=prompt)\n",
    "agent_response = graph.invoke(\n",
    "    input={\n",
    "        \"messages\": prompt\n",
    "    },\n",
    "    config={\n",
    "        \"configurable\": {\n",
    "            \"thread_id\": 42\n",
    "        }\n",
    "    }\n",
    ")\n",
    "\n",
    "print(\"\\n---RESPONSE---\")\n",
    "for m in agent_response[\"messages\"]:\n",
    "    m.pretty_print()"
   ]
  }
 ],
 "metadata": {
  "kernelspec": {
   "display_name": "llm",
   "language": "python",
   "name": "python3"
  },
  "language_info": {
   "codemirror_mode": {
    "name": "ipython",
    "version": 3
   },
   "file_extension": ".py",
   "mimetype": "text/x-python",
   "name": "python",
   "nbconvert_exporter": "python",
   "pygments_lexer": "ipython3",
   "version": "3.12.3"
  }
 },
 "nbformat": 4,
 "nbformat_minor": 5
}
